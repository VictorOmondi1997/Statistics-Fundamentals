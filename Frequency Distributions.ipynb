{
 "cells": [
  {
   "cell_type": "markdown",
   "metadata": {},
   "source": [
    "# Frequency Distributions\n",
    "\n",
    "> \n",
    "\n",
    "- author: Victor Omondi\n",
    "- toc: true\n",
    "- comments: true\n",
    "- categories: [statistics]\n",
    "- image:"
   ]
  },
  {
   "cell_type": "markdown",
   "metadata": {},
   "source": [
    "# Libraries"
   ]
  },
  {
   "cell_type": "code",
   "execution_count": 1,
   "metadata": {},
   "outputs": [],
   "source": [
    "# WARNINGS\n",
    "import warnings\n",
    "\n",
    "# MANIPULATION AND EXPLORATION\n",
    "import pandas as pd\n",
    "import numpy as np\n",
    "\n",
    "# VISUALIZATION\n",
    "import matplotlib.pyplot as plt\n",
    "import seaborn as sns\n",
    "\n",
    "from scipy.stats import percentileofscore"
   ]
  },
  {
   "cell_type": "markdown",
   "metadata": {},
   "source": [
    "## Libraries Configuration"
   ]
  },
  {
   "cell_type": "code",
   "execution_count": 2,
   "metadata": {},
   "outputs": [],
   "source": [
    "pd.set_option('display.max_columns', None)\n",
    "pd.set_option('display.max_colwidth', None)\n",
    "\n",
    "%matplotlib inline\n",
    "plt.style.use('fivethirtyeight')"
   ]
  },
  {
   "cell_type": "markdown",
   "metadata": {},
   "source": [
    "# Simplifying Data"
   ]
  },
  {
   "cell_type": "markdown",
   "metadata": {},
   "source": [
    "Our capacity to understand a data set just by looking at it in a table format is limited, and it decreases dramatically as the size of the data set increases. To be able to analyze data, we need to find ways to simplify it."
   ]
  },
  {
   "cell_type": "code",
   "execution_count": 3,
   "metadata": {},
   "outputs": [
    {
     "data": {
      "text/html": [
       "<div>\n",
       "<style scoped>\n",
       "    .dataframe tbody tr th:only-of-type {\n",
       "        vertical-align: middle;\n",
       "    }\n",
       "\n",
       "    .dataframe tbody tr th {\n",
       "        vertical-align: top;\n",
       "    }\n",
       "\n",
       "    .dataframe thead th {\n",
       "        text-align: right;\n",
       "    }\n",
       "</style>\n",
       "<table border=\"1\" class=\"dataframe\">\n",
       "  <thead>\n",
       "    <tr style=\"text-align: right;\">\n",
       "      <th></th>\n",
       "      <th>Name</th>\n",
       "      <th>Team</th>\n",
       "      <th>Pos</th>\n",
       "      <th>Height</th>\n",
       "      <th>Weight</th>\n",
       "      <th>BMI</th>\n",
       "      <th>Birth_Place</th>\n",
       "      <th>Birthdate</th>\n",
       "      <th>Age</th>\n",
       "      <th>College</th>\n",
       "      <th>Experience</th>\n",
       "      <th>Games Played</th>\n",
       "      <th>MIN</th>\n",
       "      <th>FGM</th>\n",
       "      <th>FGA</th>\n",
       "      <th>FG%</th>\n",
       "      <th>15:00</th>\n",
       "      <th>3PA</th>\n",
       "      <th>3P%</th>\n",
       "      <th>FTM</th>\n",
       "      <th>FTA</th>\n",
       "      <th>FT%</th>\n",
       "      <th>OREB</th>\n",
       "      <th>DREB</th>\n",
       "      <th>REB</th>\n",
       "      <th>AST</th>\n",
       "      <th>STL</th>\n",
       "      <th>BLK</th>\n",
       "      <th>TO</th>\n",
       "      <th>PTS</th>\n",
       "      <th>DD2</th>\n",
       "      <th>TD3</th>\n",
       "    </tr>\n",
       "  </thead>\n",
       "  <tbody>\n",
       "    <tr>\n",
       "      <th>0</th>\n",
       "      <td>Aerial Powers</td>\n",
       "      <td>DAL</td>\n",
       "      <td>F</td>\n",
       "      <td>183</td>\n",
       "      <td>71.0</td>\n",
       "      <td>21.200991</td>\n",
       "      <td>US</td>\n",
       "      <td>January 17, 1994</td>\n",
       "      <td>23</td>\n",
       "      <td>Michigan State</td>\n",
       "      <td>2</td>\n",
       "      <td>8</td>\n",
       "      <td>173</td>\n",
       "      <td>30</td>\n",
       "      <td>85</td>\n",
       "      <td>35.3</td>\n",
       "      <td>12</td>\n",
       "      <td>32</td>\n",
       "      <td>37.5</td>\n",
       "      <td>21</td>\n",
       "      <td>26</td>\n",
       "      <td>80.8</td>\n",
       "      <td>6</td>\n",
       "      <td>22</td>\n",
       "      <td>28</td>\n",
       "      <td>12</td>\n",
       "      <td>3</td>\n",
       "      <td>6</td>\n",
       "      <td>12</td>\n",
       "      <td>93</td>\n",
       "      <td>0</td>\n",
       "      <td>0</td>\n",
       "    </tr>\n",
       "    <tr>\n",
       "      <th>1</th>\n",
       "      <td>Alana Beard</td>\n",
       "      <td>LA</td>\n",
       "      <td>G/F</td>\n",
       "      <td>185</td>\n",
       "      <td>73.0</td>\n",
       "      <td>21.329438</td>\n",
       "      <td>US</td>\n",
       "      <td>May 14, 1982</td>\n",
       "      <td>35</td>\n",
       "      <td>Duke</td>\n",
       "      <td>12</td>\n",
       "      <td>30</td>\n",
       "      <td>947</td>\n",
       "      <td>90</td>\n",
       "      <td>177</td>\n",
       "      <td>50.8</td>\n",
       "      <td>5</td>\n",
       "      <td>18</td>\n",
       "      <td>27.8</td>\n",
       "      <td>32</td>\n",
       "      <td>41</td>\n",
       "      <td>78.0</td>\n",
       "      <td>19</td>\n",
       "      <td>82</td>\n",
       "      <td>101</td>\n",
       "      <td>72</td>\n",
       "      <td>63</td>\n",
       "      <td>13</td>\n",
       "      <td>40</td>\n",
       "      <td>217</td>\n",
       "      <td>0</td>\n",
       "      <td>0</td>\n",
       "    </tr>\n",
       "    <tr>\n",
       "      <th>2</th>\n",
       "      <td>Alex Bentley</td>\n",
       "      <td>CON</td>\n",
       "      <td>G</td>\n",
       "      <td>170</td>\n",
       "      <td>69.0</td>\n",
       "      <td>23.875433</td>\n",
       "      <td>US</td>\n",
       "      <td>October 27, 1990</td>\n",
       "      <td>26</td>\n",
       "      <td>Penn State</td>\n",
       "      <td>4</td>\n",
       "      <td>26</td>\n",
       "      <td>617</td>\n",
       "      <td>82</td>\n",
       "      <td>218</td>\n",
       "      <td>37.6</td>\n",
       "      <td>19</td>\n",
       "      <td>64</td>\n",
       "      <td>29.7</td>\n",
       "      <td>35</td>\n",
       "      <td>42</td>\n",
       "      <td>83.3</td>\n",
       "      <td>4</td>\n",
       "      <td>36</td>\n",
       "      <td>40</td>\n",
       "      <td>78</td>\n",
       "      <td>22</td>\n",
       "      <td>3</td>\n",
       "      <td>24</td>\n",
       "      <td>218</td>\n",
       "      <td>0</td>\n",
       "      <td>0</td>\n",
       "    </tr>\n",
       "    <tr>\n",
       "      <th>3</th>\n",
       "      <td>Alex Montgomery</td>\n",
       "      <td>SAN</td>\n",
       "      <td>G/F</td>\n",
       "      <td>185</td>\n",
       "      <td>84.0</td>\n",
       "      <td>24.543462</td>\n",
       "      <td>US</td>\n",
       "      <td>December 11, 1988</td>\n",
       "      <td>28</td>\n",
       "      <td>Georgia Tech</td>\n",
       "      <td>6</td>\n",
       "      <td>31</td>\n",
       "      <td>721</td>\n",
       "      <td>75</td>\n",
       "      <td>195</td>\n",
       "      <td>38.5</td>\n",
       "      <td>21</td>\n",
       "      <td>68</td>\n",
       "      <td>30.9</td>\n",
       "      <td>17</td>\n",
       "      <td>21</td>\n",
       "      <td>81.0</td>\n",
       "      <td>35</td>\n",
       "      <td>134</td>\n",
       "      <td>169</td>\n",
       "      <td>65</td>\n",
       "      <td>20</td>\n",
       "      <td>10</td>\n",
       "      <td>38</td>\n",
       "      <td>188</td>\n",
       "      <td>2</td>\n",
       "      <td>0</td>\n",
       "    </tr>\n",
       "    <tr>\n",
       "      <th>4</th>\n",
       "      <td>Alexis Jones</td>\n",
       "      <td>MIN</td>\n",
       "      <td>G</td>\n",
       "      <td>175</td>\n",
       "      <td>78.0</td>\n",
       "      <td>25.469388</td>\n",
       "      <td>US</td>\n",
       "      <td>August 5, 1994</td>\n",
       "      <td>23</td>\n",
       "      <td>Baylor</td>\n",
       "      <td>R</td>\n",
       "      <td>24</td>\n",
       "      <td>137</td>\n",
       "      <td>16</td>\n",
       "      <td>50</td>\n",
       "      <td>32.0</td>\n",
       "      <td>7</td>\n",
       "      <td>20</td>\n",
       "      <td>35.0</td>\n",
       "      <td>11</td>\n",
       "      <td>12</td>\n",
       "      <td>91.7</td>\n",
       "      <td>3</td>\n",
       "      <td>9</td>\n",
       "      <td>12</td>\n",
       "      <td>12</td>\n",
       "      <td>7</td>\n",
       "      <td>0</td>\n",
       "      <td>14</td>\n",
       "      <td>50</td>\n",
       "      <td>0</td>\n",
       "      <td>0</td>\n",
       "    </tr>\n",
       "    <tr>\n",
       "      <th>...</th>\n",
       "      <td>...</td>\n",
       "      <td>...</td>\n",
       "      <td>...</td>\n",
       "      <td>...</td>\n",
       "      <td>...</td>\n",
       "      <td>...</td>\n",
       "      <td>...</td>\n",
       "      <td>...</td>\n",
       "      <td>...</td>\n",
       "      <td>...</td>\n",
       "      <td>...</td>\n",
       "      <td>...</td>\n",
       "      <td>...</td>\n",
       "      <td>...</td>\n",
       "      <td>...</td>\n",
       "      <td>...</td>\n",
       "      <td>...</td>\n",
       "      <td>...</td>\n",
       "      <td>...</td>\n",
       "      <td>...</td>\n",
       "      <td>...</td>\n",
       "      <td>...</td>\n",
       "      <td>...</td>\n",
       "      <td>...</td>\n",
       "      <td>...</td>\n",
       "      <td>...</td>\n",
       "      <td>...</td>\n",
       "      <td>...</td>\n",
       "      <td>...</td>\n",
       "      <td>...</td>\n",
       "      <td>...</td>\n",
       "      <td>...</td>\n",
       "    </tr>\n",
       "    <tr>\n",
       "      <th>138</th>\n",
       "      <td>Tiffany Hayes</td>\n",
       "      <td>ATL</td>\n",
       "      <td>G</td>\n",
       "      <td>178</td>\n",
       "      <td>70.0</td>\n",
       "      <td>22.093170</td>\n",
       "      <td>US</td>\n",
       "      <td>September 20, 1989</td>\n",
       "      <td>27</td>\n",
       "      <td>Connecticut</td>\n",
       "      <td>6</td>\n",
       "      <td>29</td>\n",
       "      <td>861</td>\n",
       "      <td>144</td>\n",
       "      <td>331</td>\n",
       "      <td>43.5</td>\n",
       "      <td>43</td>\n",
       "      <td>112</td>\n",
       "      <td>38.4</td>\n",
       "      <td>136</td>\n",
       "      <td>161</td>\n",
       "      <td>84.5</td>\n",
       "      <td>28</td>\n",
       "      <td>89</td>\n",
       "      <td>117</td>\n",
       "      <td>69</td>\n",
       "      <td>37</td>\n",
       "      <td>8</td>\n",
       "      <td>50</td>\n",
       "      <td>467</td>\n",
       "      <td>0</td>\n",
       "      <td>0</td>\n",
       "    </tr>\n",
       "    <tr>\n",
       "      <th>139</th>\n",
       "      <td>Tiffany Jackson</td>\n",
       "      <td>LA</td>\n",
       "      <td>F</td>\n",
       "      <td>191</td>\n",
       "      <td>84.0</td>\n",
       "      <td>23.025685</td>\n",
       "      <td>US</td>\n",
       "      <td>April 26, 1985</td>\n",
       "      <td>32</td>\n",
       "      <td>Texas</td>\n",
       "      <td>9</td>\n",
       "      <td>22</td>\n",
       "      <td>127</td>\n",
       "      <td>12</td>\n",
       "      <td>25</td>\n",
       "      <td>48.0</td>\n",
       "      <td>0</td>\n",
       "      <td>1</td>\n",
       "      <td>0.0</td>\n",
       "      <td>4</td>\n",
       "      <td>6</td>\n",
       "      <td>66.7</td>\n",
       "      <td>5</td>\n",
       "      <td>18</td>\n",
       "      <td>23</td>\n",
       "      <td>3</td>\n",
       "      <td>1</td>\n",
       "      <td>3</td>\n",
       "      <td>8</td>\n",
       "      <td>28</td>\n",
       "      <td>0</td>\n",
       "      <td>0</td>\n",
       "    </tr>\n",
       "    <tr>\n",
       "      <th>140</th>\n",
       "      <td>Tiffany Mitchell</td>\n",
       "      <td>IND</td>\n",
       "      <td>G</td>\n",
       "      <td>175</td>\n",
       "      <td>69.0</td>\n",
       "      <td>22.530612</td>\n",
       "      <td>US</td>\n",
       "      <td>September 23, 1984</td>\n",
       "      <td>32</td>\n",
       "      <td>South Carolina</td>\n",
       "      <td>2</td>\n",
       "      <td>27</td>\n",
       "      <td>671</td>\n",
       "      <td>83</td>\n",
       "      <td>238</td>\n",
       "      <td>34.9</td>\n",
       "      <td>17</td>\n",
       "      <td>69</td>\n",
       "      <td>24.6</td>\n",
       "      <td>94</td>\n",
       "      <td>102</td>\n",
       "      <td>92.2</td>\n",
       "      <td>16</td>\n",
       "      <td>70</td>\n",
       "      <td>86</td>\n",
       "      <td>39</td>\n",
       "      <td>31</td>\n",
       "      <td>5</td>\n",
       "      <td>40</td>\n",
       "      <td>277</td>\n",
       "      <td>0</td>\n",
       "      <td>0</td>\n",
       "    </tr>\n",
       "    <tr>\n",
       "      <th>141</th>\n",
       "      <td>Tina Charles</td>\n",
       "      <td>NY</td>\n",
       "      <td>F/C</td>\n",
       "      <td>193</td>\n",
       "      <td>84.0</td>\n",
       "      <td>22.550941</td>\n",
       "      <td>US</td>\n",
       "      <td>May 12, 1988</td>\n",
       "      <td>29</td>\n",
       "      <td>Connecticut</td>\n",
       "      <td>8</td>\n",
       "      <td>29</td>\n",
       "      <td>952</td>\n",
       "      <td>227</td>\n",
       "      <td>509</td>\n",
       "      <td>44.6</td>\n",
       "      <td>18</td>\n",
       "      <td>56</td>\n",
       "      <td>32.1</td>\n",
       "      <td>110</td>\n",
       "      <td>135</td>\n",
       "      <td>81.5</td>\n",
       "      <td>56</td>\n",
       "      <td>212</td>\n",
       "      <td>268</td>\n",
       "      <td>75</td>\n",
       "      <td>21</td>\n",
       "      <td>22</td>\n",
       "      <td>71</td>\n",
       "      <td>582</td>\n",
       "      <td>11</td>\n",
       "      <td>0</td>\n",
       "    </tr>\n",
       "    <tr>\n",
       "      <th>142</th>\n",
       "      <td>Yvonne Turner</td>\n",
       "      <td>PHO</td>\n",
       "      <td>G</td>\n",
       "      <td>175</td>\n",
       "      <td>59.0</td>\n",
       "      <td>19.265306</td>\n",
       "      <td>US</td>\n",
       "      <td>October 13, 1987</td>\n",
       "      <td>29</td>\n",
       "      <td>Nebraska</td>\n",
       "      <td>2</td>\n",
       "      <td>30</td>\n",
       "      <td>356</td>\n",
       "      <td>59</td>\n",
       "      <td>140</td>\n",
       "      <td>42.1</td>\n",
       "      <td>11</td>\n",
       "      <td>47</td>\n",
       "      <td>23.4</td>\n",
       "      <td>22</td>\n",
       "      <td>28</td>\n",
       "      <td>78.6</td>\n",
       "      <td>11</td>\n",
       "      <td>13</td>\n",
       "      <td>24</td>\n",
       "      <td>30</td>\n",
       "      <td>18</td>\n",
       "      <td>1</td>\n",
       "      <td>32</td>\n",
       "      <td>151</td>\n",
       "      <td>0</td>\n",
       "      <td>0</td>\n",
       "    </tr>\n",
       "  </tbody>\n",
       "</table>\n",
       "<p>143 rows × 32 columns</p>\n",
       "</div>"
      ],
      "text/plain": [
       "                 Name Team  Pos  Height  Weight        BMI Birth_Place  \\\n",
       "0       Aerial Powers  DAL    F     183    71.0  21.200991          US   \n",
       "1         Alana Beard   LA  G/F     185    73.0  21.329438          US   \n",
       "2        Alex Bentley  CON    G     170    69.0  23.875433          US   \n",
       "3     Alex Montgomery  SAN  G/F     185    84.0  24.543462          US   \n",
       "4        Alexis Jones  MIN    G     175    78.0  25.469388          US   \n",
       "..                ...  ...  ...     ...     ...        ...         ...   \n",
       "138     Tiffany Hayes  ATL    G     178    70.0  22.093170          US   \n",
       "139   Tiffany Jackson   LA    F     191    84.0  23.025685          US   \n",
       "140  Tiffany Mitchell  IND    G     175    69.0  22.530612          US   \n",
       "141      Tina Charles   NY  F/C     193    84.0  22.550941          US   \n",
       "142     Yvonne Turner  PHO    G     175    59.0  19.265306          US   \n",
       "\n",
       "              Birthdate  Age         College Experience  Games Played  MIN  \\\n",
       "0      January 17, 1994   23  Michigan State          2             8  173   \n",
       "1          May 14, 1982   35            Duke         12            30  947   \n",
       "2      October 27, 1990   26      Penn State          4            26  617   \n",
       "3     December 11, 1988   28    Georgia Tech          6            31  721   \n",
       "4        August 5, 1994   23          Baylor          R            24  137   \n",
       "..                  ...  ...             ...        ...           ...  ...   \n",
       "138  September 20, 1989   27     Connecticut          6            29  861   \n",
       "139      April 26, 1985   32           Texas          9            22  127   \n",
       "140  September 23, 1984   32  South Carolina          2            27  671   \n",
       "141        May 12, 1988   29     Connecticut          8            29  952   \n",
       "142    October 13, 1987   29        Nebraska          2            30  356   \n",
       "\n",
       "     FGM  FGA   FG%  15:00  3PA   3P%  FTM  FTA   FT%  OREB  DREB  REB  AST  \\\n",
       "0     30   85  35.3     12   32  37.5   21   26  80.8     6    22   28   12   \n",
       "1     90  177  50.8      5   18  27.8   32   41  78.0    19    82  101   72   \n",
       "2     82  218  37.6     19   64  29.7   35   42  83.3     4    36   40   78   \n",
       "3     75  195  38.5     21   68  30.9   17   21  81.0    35   134  169   65   \n",
       "4     16   50  32.0      7   20  35.0   11   12  91.7     3     9   12   12   \n",
       "..   ...  ...   ...    ...  ...   ...  ...  ...   ...   ...   ...  ...  ...   \n",
       "138  144  331  43.5     43  112  38.4  136  161  84.5    28    89  117   69   \n",
       "139   12   25  48.0      0    1   0.0    4    6  66.7     5    18   23    3   \n",
       "140   83  238  34.9     17   69  24.6   94  102  92.2    16    70   86   39   \n",
       "141  227  509  44.6     18   56  32.1  110  135  81.5    56   212  268   75   \n",
       "142   59  140  42.1     11   47  23.4   22   28  78.6    11    13   24   30   \n",
       "\n",
       "     STL  BLK  TO  PTS  DD2  TD3  \n",
       "0      3    6  12   93    0    0  \n",
       "1     63   13  40  217    0    0  \n",
       "2     22    3  24  218    0    0  \n",
       "3     20   10  38  188    2    0  \n",
       "4      7    0  14   50    0    0  \n",
       "..   ...  ...  ..  ...  ...  ...  \n",
       "138   37    8  50  467    0    0  \n",
       "139    1    3   8   28    0    0  \n",
       "140   31    5  40  277    0    0  \n",
       "141   21   22  71  582   11    0  \n",
       "142   18    1  32  151    0    0  \n",
       "\n",
       "[143 rows x 32 columns]"
      ]
     },
     "execution_count": 3,
     "metadata": {},
     "output_type": "execute_result"
    }
   ],
   "source": [
    "wnba = pd.read_csv('datasets/wnba.csv')\n",
    "wnba"
   ]
  },
  {
   "cell_type": "markdown",
   "metadata": {},
   "source": [
    "The WNBA data set we've been working with has 143 rows and 32 columns. This might not seem like much compared to other data sets, but it's still extremely difficult to find any patterns just by eyeballing the data set in a table format. With 32 columns, even five rows would take us a couple of minutes to analyze.\n",
    "\n",
    "One way to simplify this data set is to select a variable, count how many times each unique value occurs, and represent the  **frequencies**  (the number of times a unique value occurs) in a table. This is how such a table looks for the  `POS`  (player position) variable:"
   ]
  },
  {
   "cell_type": "code",
   "execution_count": 4,
   "metadata": {},
   "outputs": [
    {
     "data": {
      "text/plain": [
       "G      60\n",
       "F      33\n",
       "C      25\n",
       "G/F    13\n",
       "F/C    12\n",
       "Name: Pos, dtype: int64"
      ]
     },
     "execution_count": 4,
     "metadata": {},
     "output_type": "execute_result"
    }
   ],
   "source": [
    "wnba.Pos.value_counts()"
   ]
  },
  {
   "cell_type": "markdown",
   "metadata": {},
   "source": [
    "Because 60 of the players in our data set play as guards, the frequency for guards is 60. Because 33 of the players are forwards, the frequency for forwards is 33, and so on.\n",
    "\n",
    "With the table above, we simplified the  `POS`  variable by transforming it to a  *comprehensible*  format. Instead of having to deal with analyzing 143 values (the length of the  `POS`  variable), now we only have five values to analyze. We can make a few conclusions now that would have been difficult and time consuming to reach at just by looking at the list of 143 values:\n",
    "\n",
    "* We can see how the frequencies are distributed:\n",
    "  * Almost half of the players play as guards.\n",
    "  * Most of the players are either guards, forwards or centers.\n",
    "  * Very few players have combined positions (like guard/forward or forward/center).\n",
    "* We can make comparisons with ease:\n",
    "  * There are roughly two times more guards than forwards.\n",
    "  * There are slightly less centers that forwards; etc.\n",
    "\n",
    "Because the table above shows how  *frequencies*  are  *distributed* , it's often called a  **frequency distribution table** , or, shorter,  **frequency table**  or  **frequency distribution** . Throughout this mission, our focus will be on learning the details behind this form of simplifying data."
   ]
  },
  {
   "cell_type": "code",
   "execution_count": 5,
   "metadata": {},
   "outputs": [
    {
     "data": {
      "text/plain": [
       "188    20\n",
       "193    18\n",
       "175    16\n",
       "185    15\n",
       "191    11\n",
       "183    11\n",
       "173    11\n",
       "196     9\n",
       "178     8\n",
       "180     7\n",
       "170     6\n",
       "198     5\n",
       "201     2\n",
       "168     2\n",
       "206     1\n",
       "165     1\n",
       "Name: Height, dtype: int64"
      ]
     },
     "execution_count": 5,
     "metadata": {},
     "output_type": "execute_result"
    }
   ],
   "source": [
    "wnba.Height.value_counts()"
   ]
  },
  {
   "cell_type": "markdown",
   "metadata": {},
   "source": [
    "pandas sorts the tables by default in the descending order of the frequencies. \n",
    "\n",
    "This default is harmless for variables measured on a nominal scale because the unique values, although different, have no direction (we can't say, for instance, that centers are  *greater*  or  *lower*  than guards). The default actually helps because we can immediately see which values have the greatest or lowest frequencies, we can make comparisons easily, etc. \n",
    "\n",
    "For variables measured on ordinal, interval, or ratio scales, this default makes the analysis of the tables more difficult because the unique values have direction (some uniques values are  *greater*  or  *lower*  than others).\n",
    "\n",
    "Because the  `Height`  variable has direction, we might be interested to find:\n",
    "\n",
    "* How many players are under 170 cm?\n",
    "* How many players are very tall (over 185)?\n",
    "* Are there any players below 160 cm?"
   ]
  },
  {
   "cell_type": "code",
   "execution_count": 6,
   "metadata": {},
   "outputs": [
    {
     "data": {
      "text/plain": [
       "36     1\n",
       "35     4\n",
       "34     5\n",
       "33     3\n",
       "32     8\n",
       "31     8\n",
       "30     9\n",
       "29     8\n",
       "28    14\n",
       "27    13\n",
       "26    12\n",
       "25    15\n",
       "24    16\n",
       "23    15\n",
       "22    10\n",
       "21     2\n",
       "Name: Age, dtype: int64"
      ]
     },
     "execution_count": 6,
     "metadata": {},
     "output_type": "execute_result"
    }
   ],
   "source": [
    "wnba.Age.value_counts().sort_index(ascending=False)"
   ]
  },
  {
   "cell_type": "markdown",
   "metadata": {},
   "source": [
    "The sorting techniques can't be used for ordinal scales where the measurement is done using words. "
   ]
  },
  {
   "cell_type": "code",
   "execution_count": 7,
   "metadata": {},
   "outputs": [
    {
     "data": {
      "text/plain": [
       "average number of points    45\n",
       "few points                  27\n",
       "many, but below average     25\n",
       "more than average           21\n",
       "much more than average      13\n",
       "very few points             12\n",
       "Name: PTS_ordinal_scale, dtype: int64"
      ]
     },
     "execution_count": 7,
     "metadata": {},
     "output_type": "execute_result"
    }
   ],
   "source": [
    "def make_pts_ordinal(row):\n",
    "    if row['PTS'] <= 20:\n",
    "        return 'very few points'\n",
    "    if (20 < row['PTS'] <=  80):\n",
    "        return 'few points'\n",
    "    if (80 < row['PTS'] <=  150):\n",
    "        return 'many, but below average'\n",
    "    if (150 < row['PTS'] <= 300):\n",
    "        return 'average number of points'\n",
    "    if (300 < row['PTS'] <=  450):\n",
    "        return 'more than average'\n",
    "    else:\n",
    "        return 'much more than average'\n",
    "    \n",
    "wnba['PTS_ordinal_scale'] = wnba.apply(make_pts_ordinal, axis = 1)\n",
    "wnba.PTS_ordinal_scale.value_counts()"
   ]
  },
  {
   "cell_type": "markdown",
   "metadata": {},
   "source": [
    "# proportions and Percentages"
   ]
  },
  {
   "cell_type": "markdown",
   "metadata": {},
   "source": [
    "When we analyze distributions, we're often interested in answering questions about  **proportions**  and  **percentages** . For instance, we may want to answer the following questions about the distribution of the  `POS`  (player position) variable:\n",
    "\n",
    "* What  *proportion*  of players are guards?\n",
    "* What  *percentage*  of players are centers?\n",
    "* What  *percentage*  of players have mixed positions?\n",
    "\n",
    "It's very difficult to answer these questions precisely just by looking at the frequencies. In pandas, we can compute all the proportions at once by dividing each frequency by the total number of players. It's slightly faster though to use  `Series.value_counts()`  with the  `normalize`  parameter set to  `True`."
   ]
  },
  {
   "cell_type": "code",
   "execution_count": 8,
   "metadata": {},
   "outputs": [
    {
     "data": {
      "text/plain": [
       "G      0.419580\n",
       "F      0.230769\n",
       "C      0.174825\n",
       "G/F    0.090909\n",
       "F/C    0.083916\n",
       "Name: Pos, dtype: float64"
      ]
     },
     "execution_count": 8,
     "metadata": {},
     "output_type": "execute_result"
    }
   ],
   "source": [
    "wnba.Pos.value_counts(normalize=True)"
   ]
  },
  {
   "cell_type": "markdown",
   "metadata": {},
   "source": [
    "To find percentages, we just have to multiply the proportions by 100:"
   ]
  },
  {
   "cell_type": "code",
   "execution_count": 9,
   "metadata": {},
   "outputs": [
    {
     "data": {
      "text/plain": [
       "G      41.958042\n",
       "F      23.076923\n",
       "C      17.482517\n",
       "G/F     9.090909\n",
       "F/C     8.391608\n",
       "Name: Pos, dtype: float64"
      ]
     },
     "execution_count": 9,
     "metadata": {},
     "output_type": "execute_result"
    }
   ],
   "source": [
    "wnba.Pos.value_counts(normalize=True)*100"
   ]
  },
  {
   "cell_type": "markdown",
   "metadata": {},
   "source": [
    "Because proportions and percentages are  *relative*  to the total number of instances in some set of data, they are called  **relative frequencies** . In contrast, the frequencies we've been working with so far are called  **absolute frequencies**  because they are absolute counts and don't relate to the total number of instances."
   ]
  },
  {
   "cell_type": "markdown",
   "metadata": {},
   "source": [
    "# Percentiles and Percentile Ranks"
   ]
  },
  {
   "cell_type": "code",
   "execution_count": 10,
   "metadata": {},
   "outputs": [
    {
     "data": {
      "text/plain": [
       "18.88111888111888"
      ]
     },
     "execution_count": 10,
     "metadata": {},
     "output_type": "execute_result"
    }
   ],
   "source": [
    "(wnba.Age.value_counts(normalize=True)*100).sort_index().loc[:23].sum()"
   ]
  },
  {
   "cell_type": "markdown",
   "metadata": {},
   "source": [
    "The percentage of players aged 23 years or younger is 19% (rounded to the nearest integer). This percentage is also called a  **percentile rank** ."
   ]
  },
  {
   "cell_type": "markdown",
   "metadata": {},
   "source": [
    "A percentile rank of a value $x$ in a frequency distribution is given by the percentage of values that are equal or less than $x$. In our last exercise, $x=23$, and the fact that 23 has a percentile rank of 19% means that  *19% of the values are equal to or less than 23* .\n",
    "\n",
    "In this context, the value of 23 is called the 19th  **percentile** . If a value $x$ is the 19th percentile, it means that 19% of  *all*  the values in the distribution are equal to or less than $x$.\n",
    "\n",
    "When we're trying to answer questions similar to \"What percentage of players are 23 years or younger?\", we're trying to find percentile ranks.\n",
    "\n",
    "We can arrive at the same answer a bit faster using the  `percentileofscore(a, score, kind='weak')`  [function](https://docs.scipy.org/doc/scipy-0.10.0/reference/generated/scipy.stats.percentileofscore.html#scipy-stats-percentileofscore) from  `scipy.stats` :"
   ]
  },
  {
   "cell_type": "code",
   "execution_count": 11,
   "metadata": {},
   "outputs": [
    {
     "data": {
      "text/plain": [
       "18.88111888111888"
      ]
     },
     "execution_count": 11,
     "metadata": {},
     "output_type": "execute_result"
    }
   ],
   "source": [
    "percentileofscore(a=wnba.Age, score=23, kind='weak')"
   ]
  },
  {
   "cell_type": "markdown",
   "metadata": {},
   "source": [
    "We need to use  `kind = 'weak'`  to indicate that we want to find the percentage of values thar are  *equal to or less*  than the value we specify in the  `score`  parameter."
   ]
  },
  {
   "cell_type": "markdown",
   "metadata": {},
   "source": [
    "## percentage of players are 30 years or older."
   ]
  },
  {
   "cell_type": "code",
   "execution_count": 12,
   "metadata": {},
   "outputs": [
    {
     "data": {
      "text/plain": [
       "26.573426573426573"
      ]
     },
     "execution_count": 12,
     "metadata": {},
     "output_type": "execute_result"
    }
   ],
   "source": [
    "(wnba.Age.value_counts(normalize=True)*100).sort_index(ascending=False).loc[:30].sum()"
   ]
  },
  {
   "cell_type": "markdown",
   "metadata": {},
   "source": [
    "We can answer this question too using percentile ranks. First we need to find the percentage of values equal to or less than 29 years (the percentile rank of 29). The rest of the values must be 30 years or more."
   ]
  },
  {
   "cell_type": "code",
   "execution_count": 13,
   "metadata": {},
   "outputs": [
    {
     "data": {
      "text/plain": [
       "26.573426573426573"
      ]
     },
     "execution_count": 13,
     "metadata": {},
     "output_type": "execute_result"
    }
   ],
   "source": [
    "100-percentileofscore(a=wnba.Age, score=29, kind='weak')"
   ]
  },
  {
   "cell_type": "markdown",
   "metadata": {},
   "source": [
    "## percentage of players played half the number of games or less in the 2016-2017 season (there are 34 games in the WNBA’s regular season)"
   ]
  },
  {
   "cell_type": "code",
   "execution_count": 14,
   "metadata": {},
   "outputs": [
    {
     "data": {
      "text/plain": [
       "16.083916083916083"
      ]
     },
     "execution_count": 14,
     "metadata": {},
     "output_type": "execute_result"
    }
   ],
   "source": [
    "percentileofscore(wnba['Games Played'], 17, kind='weak')"
   ]
  },
  {
   "cell_type": "markdown",
   "metadata": {},
   "source": [
    "# Finding Percentiles with pandas"
   ]
  },
  {
   "cell_type": "markdown",
   "metadata": {},
   "source": [
    "To find percentiles, we can use the  `Series.describe()`  [method](http://pandas.pydata.org/pandas-docs/stable/generated/pandas.Series.describe.html?highlight=describe#pandas.Series.describe), which returns by default the 25th, the 50th, and the 75th percentiles:"
   ]
  },
  {
   "cell_type": "code",
   "execution_count": 15,
   "metadata": {},
   "outputs": [
    {
     "data": {
      "text/plain": [
       "count    143.000000\n",
       "mean      27.076923\n",
       "std        3.679170\n",
       "min       21.000000\n",
       "25%       24.000000\n",
       "50%       27.000000\n",
       "75%       30.000000\n",
       "max       36.000000\n",
       "Name: Age, dtype: float64"
      ]
     },
     "execution_count": 15,
     "metadata": {},
     "output_type": "execute_result"
    }
   ],
   "source": [
    "wnba.Age.describe()"
   ]
  },
  {
   "cell_type": "code",
   "execution_count": 16,
   "metadata": {},
   "outputs": [
    {
     "data": {
      "text/plain": [
       "min    21.0\n",
       "25%    24.0\n",
       "50%    27.0\n",
       "75%    30.0\n",
       "max    36.0\n",
       "Name: Age, dtype: float64"
      ]
     },
     "execution_count": 16,
     "metadata": {},
     "output_type": "execute_result"
    }
   ],
   "source": [
    "wnba.Age.describe().iloc[3:]"
   ]
  },
  {
   "cell_type": "markdown",
   "metadata": {},
   "source": [
    "The three percentiles that divide the distribution in  *four*  equal parts are also known as  **quartiles**  (from the Latin [ *quartus* ](http://www.latin-dictionary.net/definition/32600/quattuor-quartus) which means  *four* ). There are three quartiles in the distribution of the  `Age`  variable:\n",
    "\n",
    "* The first quartile (also called  *lower*  quartile) is 24 (note that 24 is also the 25th percentile).\n",
    "* The second quartile (also called the  *middle*  quartile) is 27 (note that 27 is also the 50th percentile).\n",
    "* And the third quartile (also called the  *upper*  quartile) is 30 (note that 30 is also the 75th percentile).\n",
    "\n",
    "We may be interested to find the percentiles for percentages other than 25%, 50%, or 75%. For that, we can use the  `percentiles`  parameter of  `Series.describe()` . This parameter requires us to pass the percentages we want as proportions between 0 and 1."
   ]
  },
  {
   "cell_type": "code",
   "execution_count": 17,
   "metadata": {},
   "outputs": [
    {
     "data": {
      "text/plain": [
       "min      21.0\n",
       "10%      23.0\n",
       "15%      23.0\n",
       "33%      25.0\n",
       "50%      27.0\n",
       "59.2%    28.0\n",
       "85%      31.0\n",
       "90%      32.0\n",
       "max      36.0\n",
       "Name: Age, dtype: float64"
      ]
     },
     "execution_count": 17,
     "metadata": {},
     "output_type": "execute_result"
    }
   ],
   "source": [
    "wnba.Age.describe(percentiles=[.1, .15, .33, .592, .85, .9]).iloc[3:]"
   ]
  },
  {
   "cell_type": "markdown",
   "metadata": {},
   "source": [
    "Percentiles don't have [a single standard definition](https://en.wikipedia.org/wiki/Percentile#Definitions), so don't be surprised if you get very similar (but not identical) values if you use different functions (especially if the functions come from different libraries)."
   ]
  },
  {
   "cell_type": "code",
   "execution_count": 18,
   "metadata": {},
   "outputs": [
    {
     "data": {
      "text/plain": [
       "24.0"
      ]
     },
     "execution_count": 18,
     "metadata": {},
     "output_type": "execute_result"
    }
   ],
   "source": [
    "wnba.Age.quantile(.25)"
   ]
  },
  {
   "cell_type": "markdown",
   "metadata": {},
   "source": [
    "# Grouped Frequency Distribution Tables"
   ]
  },
  {
   "cell_type": "markdown",
   "metadata": {},
   "source": [
    "With frequency tables, we're trying to transform relatively large and incomprehensible amounts of data to a table format we can understand. However, not all frequency tables are straightforward:"
   ]
  },
  {
   "cell_type": "code",
   "execution_count": 19,
   "metadata": {},
   "outputs": [
    {
     "data": {
      "text/plain": [
       "55.0      1\n",
       "57.0      1\n",
       "58.0      1\n",
       "59.0      2\n",
       "62.0      1\n",
       "63.0      3\n",
       "64.0      5\n",
       "65.0      4\n",
       "66.0      8\n",
       "67.0      1\n",
       "68.0      2\n",
       "69.0      2\n",
       "70.0      3\n",
       "71.0      2\n",
       "73.0      6\n",
       "74.0      4\n",
       "75.0      4\n",
       "76.0      4\n",
       "77.0     10\n",
       "78.0      5\n",
       "79.0      6\n",
       "80.0      3\n",
       "81.0      5\n",
       "82.0      4\n",
       "83.0      4\n",
       "84.0      9\n",
       "85.0      2\n",
       "86.0      7\n",
       "87.0      6\n",
       "88.0      6\n",
       "89.0      3\n",
       "90.0      2\n",
       "91.0      3\n",
       "93.0      3\n",
       "95.0      2\n",
       "96.0      2\n",
       "97.0      1\n",
       "104.0     2\n",
       "108.0     1\n",
       "113.0     2\n",
       "Name: Weight, dtype: int64"
      ]
     },
     "execution_count": 19,
     "metadata": {},
     "output_type": "execute_result"
    }
   ],
   "source": [
    "wnba.Weight.value_counts().sort_index()"
   ]
  },
  {
   "cell_type": "markdown",
   "metadata": {},
   "source": [
    "There's a lot of granularity in the table above, but for this reason it's not easy to find patterns. \n",
    "\n",
    "If the variable is measured on an interval or ratio scale, a common solution to this problem is to  *group*  the values in equal intervals.\n",
    "\n",
    "For the  `Weight`  variable, the values range from 55 to 113 kg, which amounts to a difference of 58 kg. We can try to segment this 58 kg interval in ten smaller and equal intervals. This will result in ten intervals of 5.8 kg each.\n",
    "\n",
    "Fortunately, pandas can handle this process gracefully. We only need to make use of the  `bins`  parameter of  `Series.value_counts()` . We want ten equal intervals, so we need to specify  `bins = 10` :"
   ]
  },
  {
   "cell_type": "code",
   "execution_count": 20,
   "metadata": {},
   "outputs": [
    {
     "data": {
      "text/plain": [
       "(54.941, 60.8]     5\n",
       "(60.8, 66.6]      21\n",
       "(66.6, 72.4]      10\n",
       "(72.4, 78.2]      33\n",
       "(78.2, 84.0]      31\n",
       "(84.0, 89.8]      24\n",
       "(89.8, 95.6]      10\n",
       "(95.6, 101.4]      3\n",
       "(101.4, 107.2]     2\n",
       "(107.2, 113.0]     3\n",
       "Name: Weight, dtype: int64"
      ]
     },
     "execution_count": 20,
     "metadata": {},
     "output_type": "execute_result"
    }
   ],
   "source": [
    "wnba.Weight.value_counts(bins=10).sort_index()"
   ]
  },
  {
   "cell_type": "markdown",
   "metadata": {},
   "source": [
    "`(54.941, 60.8]` ,  `(60.8, 66.6]`  or  `(107.2, 113.0]`  are number intervals. The  `(`  character indicates that the starting point is not included, while the  `]`  indicates that the endpoint is included.  `(54.941, 60.8]`  means that 54.941 isn't included in the interval, while 60.8 is. The interval  `(54.941, 60.8]`  contains all real numbers greater than 54.941 and less than or equal to 60.8.\n",
    "\n",
    "We can see above that there are 10 equal intervals, 5.8 each. The first interval,  `(54.941, 60.8]`  is confusing, and has to do with how pandas [internals](https://github.com/pandas-dev/pandas/blob/01e99decf14b55409cea0789ffcc615afed45bac/pandas/core/algorithms.py#L497) show the output. One way to understand this is to convert 54.941 to 1 decimal point like all the other values are. Then the first interval becomes  `(54.9, 60.8]` . 54.9 is not included, so you can think that the interval starts at the minimum value of the  `Weight`  variable, which is 55.\n",
    "\n",
    "Because we  *group*  values in a  *table*  to get a better sense of  *frequencies*  in the  *distribution*, the table we generated above is also known as a  **grouped frequency distribution table**. Each group (interval) in a grouped frequency distribution table is also known as a  **class interval**.  `(107.2, 113.0]` , for instance, is a class interval.\n",
    "\n",
    "Using the grouped frequency distribution table we generated above for the  `Weight`  variable, we can find patterns easier in the distribution of values:\n",
    "\n",
    "* Most players weigh somewhere between 70 and 90 kg.\n",
    "* Very few players weigh over 100 kg.\n",
    "* Very few players weigh under 60 kg; etc."
   ]
  },
  {
   "cell_type": "markdown",
   "metadata": {},
   "source": [
    "## grouped frequency distribution table for the PTS variable"
   ]
  },
  {
   "cell_type": "code",
   "execution_count": 21,
   "metadata": {},
   "outputs": [
    {
     "data": {
      "text/plain": [
       "(525.8, 584.0]     3.496503\n",
       "(467.6, 525.8]     2.797203\n",
       "(409.4, 467.6]     5.594406\n",
       "(351.2, 409.4]     6.993007\n",
       "(293.0, 351.2]     5.594406\n",
       "(234.8, 293.0]    11.888112\n",
       "(176.6, 234.8]    13.986014\n",
       "(118.4, 176.6]    11.888112\n",
       "(60.2, 118.4]     16.783217\n",
       "(1.417, 60.2]     20.979021\n",
       "Name: PTS, dtype: float64"
      ]
     },
     "execution_count": 21,
     "metadata": {},
     "output_type": "execute_result"
    }
   ],
   "source": [
    "wnba.PTS.value_counts(bins=10, normalize=True).sort_index(ascending=False)*100"
   ]
  },
  {
   "cell_type": "code",
   "execution_count": 22,
   "metadata": {},
   "outputs": [
    {
     "data": {
      "image/png": "[encoded data removed]",
      "text/plain": [
       "<Figure size 432x288 with 1 Axes>"
      ]
     },
     "metadata": {},
     "output_type": "display_data"
    }
   ],
   "source": [
    "(wnba.PTS.value_counts(bins=10, normalize=True).sort_index(ascending=False)*100).plot.barh()\n",
    "plt.title('grouped frequency distribution table for the PTS variable')\n",
    "plt.xlabel('Frequency')\n",
    "plt.ylabel('PTS')\n",
    "plt.show()"
   ]
  },
  {
   "cell_type": "markdown",
   "metadata": {},
   "source": [
    "# Information Loss"
   ]
  },
  {
   "cell_type": "markdown",
   "metadata": {},
   "source": [
    "When we increase the number of class intervals, we can get more information, but the table becomes harder to analyze. When we decrease the number of class intervals, we get a boost in comprehensibility, but the amount of information in the table decreases."
   ]
  },
  {
   "cell_type": "markdown",
   "metadata": {},
   "source": [
    "# Visualizing Distributions"
   ]
  },
  {
   "cell_type": "markdown",
   "metadata": {},
   "source": [
    "To find patterns in a frequency table we have to look up the frequency of each unique value or class interval and at the same time compare the frequencies. This process can get time consuming for tables with many unique values or class intervals, or when the frequency values are large and hard to compare against each other.\n",
    "\n",
    "We can solve this problem by  **visualizing**  the data in the tables with the help of graphs. Graphs make it much easier to scan and compare frequencies, providing us with a single picture of the entire distribution of a variable.\n",
    "\n",
    "Because they are easy to grasp and also eye-catching, graphs are a better choice over frequency tables if we need to present our findings to a non-technical audience.\n",
    "\n",
    "we'll explore three kinds of graphs:\n",
    "\n",
    "* Bar plots.\n",
    "* Pie charts.\n",
    "* Histograms."
   ]
  },
  {
   "cell_type": "markdown",
   "metadata": {},
   "source": [
    "# Bar Plots"
   ]
  },
  {
   "cell_type": "markdown",
   "metadata": {},
   "source": [
    "For variables measured on a  *nominal*  or an  *ordinal*  scale it's common to use a  **bar plot**  to visualize their distribution. To generate a bar plot for the distribution of a variable we need two sets of values:\n",
    "\n",
    "* One set containing the unique values.\n",
    "* Another set containing the frequency for each unique value.\n",
    "\n",
    "We can get this data easily from a frequency table. We can use  `Series.value_counts()`  to generate the table, and then use the  `Series.plot.bar()`  [method](https://pandas.pydata.org/pandas-docs/stable/generated/pandas.Series.plot.bar.html) on the resulting table to generate a bar plot."
   ]
  },
  {
   "cell_type": "code",
   "execution_count": 23,
   "metadata": {},
   "outputs": [
    {
     "data": {
      "image/png": "[encoded data removed]",
      "text/plain": [
       "<Figure size 432x288 with 1 Axes>"
      ]
     },
     "metadata": {},
     "output_type": "display_data"
    }
   ],
   "source": [
    "wnba.Pos.value_counts().plot.bar()\n",
    "plt.title('Position Count Plot')\n",
    "plt.xlabel('Position')\n",
    "plt.ylabel('Counts')\n",
    "plt.show()"
   ]
  },
  {
   "cell_type": "markdown",
   "metadata": {},
   "source": [
    "The  `Series.plot.bar()`  method generates a  *vertical*  bar plot with the frequencies on the y-axis, and the unique values on the x-axis. To generate a horizontal bar plot, we can use the  `Series.plot.barh()`  [method](https://pandas.pydata.org/pandas-docs/stable/generated/pandas.Series.plot.barh.html):"
   ]
  },
  {
   "cell_type": "code",
   "execution_count": 24,
   "metadata": {},
   "outputs": [
    {
     "data": {
      "image/png": "[encoded data removed]",
      "text/plain": [
       "<Figure size 432x288 with 1 Axes>"
      ]
     },
     "metadata": {},
     "output_type": "display_data"
    }
   ],
   "source": [
    "wnba.Pos.value_counts().sort_values().plot.barh()\n",
    "plt.title('Position Count Plot')\n",
    "plt.xlabel('Position')\n",
    "plt.ylabel('Counts')\n",
    "plt.show()"
   ]
  },
  {
   "cell_type": "markdown",
   "metadata": {},
   "source": [
    "Horizontal bar plots are ideal to use when the labels of the unique values are long."
   ]
  },
  {
   "cell_type": "markdown",
   "metadata": {},
   "source": [
    "# Pie Charts"
   ]
  },
  {
   "cell_type": "markdown",
   "metadata": {},
   "source": [
    "Another kind of graph we can use to visualize the distribution of  *nominal*  and  *ordinal*  variables is a  **pie chart** . Just as the name suggests, a pie chart is structured pretty much like a regular pie: it takes the form of a circle and is divided in wedges. Each wedge in a pie chart represents a category (one of the unique labels), and the size of each wedge is given by the proportion (or percentage) of that category in the distribution. We can generate pie charts using the  `Series.plot.pie()`  [method](https://pandas.pydata.org/pandas-docs/stable/generated/pandas.Series.plot.pie.html). \n",
    "\n",
    "To give a pie chart the right shape, we need to specify equal values for height and width in the  `figsize`  parameter of  `Series.plot.pie()` .\n",
    "\n",
    "The  `Pos`  is the label of a hidden y-axis, which means we can use the  `plt.ylabel()`  [function](https://matplotlib.org/api/_as_gen/matplotlib.pyplot.ylabel.html) to remove it.\n",
    "\n",
    "Ideally, we'd have proportions or percentages displayed on each wedge of the pie chart. Fortunately, this is easy to get using the  `autopct`  parameter. This parameter accepts Python string formatting, and we'll use the string  `'%.1f%%'`  to have percentages displayed with a precision of one decimal place. we don't have to transform to percentages ourselves using  `Series.value_counts(normalize = True) * 100` .\n",
    "\n",
    "Other display formats are possible, and more documentation on the the syntax of string formatting in Python can be found [here](https://docs.python.org/3/library/string.html#format-specification-mini-language). Documentation on  `autopct`  and other nice customization parameters can be found [here](https://matplotlib.org/api/_as_gen/matplotlib.pyplot.pie.html)."
   ]
  },
  {
   "cell_type": "code",
   "execution_count": 25,
   "metadata": {},
   "outputs": [
    {
     "data": {
      "image/png": "[encoded data removed]",
      "text/plain": [
       "<Figure size 432x432 with 1 Axes>"
      ]
     },
     "metadata": {},
     "output_type": "display_data"
    }
   ],
   "source": [
    "wnba.Pos.value_counts().plot.pie(figsize=(6,6), autopct='%.1f%%')\n",
    "plt.title('Position Pie Chart')\n",
    "plt.ylabel('')\n",
    "plt.show()"
   ]
  },
  {
   "cell_type": "markdown",
   "metadata": {},
   "source": [
    "The main advantage of pie charts over bar plots is that they provide a much better sense for the relative frequencies (proportions and percentages) in the distribution. Looking at a bar plot, we can see that categories are more or less numerous than others, but it's really hard to tell what proportion in the distribution each category takes.\n",
    "\n",
    "With pie charts, we can immediately get a visual sense for the proportion each category takes in a distribution. Just by eyeballing the pie chart above we can make a series of observations in terms of proportions:\n",
    "\n",
    "* Guards (\"G\") take about two fifths (2/5) of the distribution.\n",
    "* Forwards (\"F\") make up roughly a quarter (1/4) of the distribution.\n",
    "* Close to one fifth (1/5) of the distribution is made of centers (\"C\").\n",
    "* Combined positions (\"G/F\" and \"F/C\") together make up roughly one fifth (1/5) of the distribution."
   ]
  },
  {
   "cell_type": "markdown",
   "metadata": {},
   "source": [
    "# Histograms"
   ]
  },
  {
   "cell_type": "markdown",
   "metadata": {},
   "source": [
    "Because of the special properties of variables measured on interval and ratio scales, we can describe distributions in more elaborate ways. `PTS` (total points) variable is discrete and measured on a ratio scale."
   ]
  },
  {
   "cell_type": "code",
   "execution_count": 26,
   "metadata": {},
   "outputs": [
    {
     "data": {
      "text/plain": [
       "count    143.000000\n",
       "mean     201.790210\n",
       "std      153.381548\n",
       "min        2.000000\n",
       "25%       75.000000\n",
       "50%      177.000000\n",
       "75%      277.500000\n",
       "max      584.000000\n",
       "Name: PTS, dtype: float64"
      ]
     },
     "execution_count": 26,
     "metadata": {},
     "output_type": "execute_result"
    }
   ],
   "source": [
    "wnba.PTS.describe()"
   ]
  },
  {
   "cell_type": "markdown",
   "metadata": {},
   "source": [
    "75% of the values are distributed within a relatively narrow interval (between 2 and 277), while the remaining 25% are distributed in an interval that's slightly larger.\n",
    "\n",
    "To visualize the distribution of the  `PTS`  variable, we need to use a graph that allows us to see immediately the patterns outlined above. The most commonly used graph for this scenario is the  **histogram** .\n",
    "\n",
    "To generate a histogram for the  `PTS`  variable, we can use the  `Series.plot.hist()`  [method](https://pandas.pydata.org/pandas-docs/stable/generated/pandas.Series.plot.hist.html) directly on the  `wnba['PTS']`  column (we don't have to generate a frequency table in this case).\n",
    "\n",
    "Each bar in the histogram corresponds to one class interval. \n",
    "\n",
    "While it's easy and fast to make good estimates simply by looking at a histogram, it's always a good idea to add precision to our estimates using the percentile values we get from  `Series.describe()` ."
   ]
  },
  {
   "cell_type": "code",
   "execution_count": 27,
   "metadata": {},
   "outputs": [
    {
     "data": {
      "image/png": "[encoded data removed]",
      "text/plain": [
       "<Figure size 432x288 with 1 Axes>"
      ]
     },
     "metadata": {},
     "output_type": "display_data"
    }
   ],
   "source": [
    "wnba.PTS.plot.hist()\n",
    "plt.title('Total Points Distribution')\n",
    "plt.show()"
   ]
  },
  {
   "cell_type": "markdown",
   "metadata": {},
   "source": [
    "* The distribution of values is uneven, with each class interval having a different frequency. If the distribution was even, all the class intervals would have the same frequency.\n",
    "* Most values (roughly three quarters) are clustered in the left half of the histogram.\n",
    "* Most values pile up toward the starting point of the range (0 points).\n",
    "* There are less and less values toward the opposite end.\n",
    "* \n",
    "\n",
    "Under the hood, the  `wnba['PTS'].plot.hist()`  method:\n",
    "\n",
    "* Generated a grouped frequency distribution table for the  `PTS`  variable with  *ten*  class intervals.\n",
    "* For each class interval it plotted a bar with a height corresponding to the frequency of the interval."
   ]
  },
  {
   "cell_type": "code",
   "execution_count": 28,
   "metadata": {},
   "outputs": [
    {
     "data": {
      "image/png": "[encoded data removed]",
      "text/plain": [
       "<Figure size 432x288 with 1 Axes>"
      ]
     },
     "metadata": {},
     "output_type": "display_data"
    }
   ],
   "source": [
    "wnba['Games Played'].plot.hist(range=(1,32), bins=8)\n",
    "plt.title('The distribution of players by games played')\n",
    "plt.xlabel('Games played')\n",
    "plt.show()"
   ]
  },
  {
   "cell_type": "markdown",
   "metadata": {},
   "source": [
    "In the above histogram:\n",
    "* It is skewed Distribution.\n",
    "* Most values pile up toward the endpoint of the range (32 games played).\n",
    "* There are less and less values toward the opposite end (0 games played).\n",
    "* the tail points to the left, then the distribution is said to be  **left skewed** . When it points to the left, the tail points at the same time in the direction of negative numbers, and for this reason the distribution is sometimes also called  **negatively skewed** .\n",
    "\n",
    "To modify the number of class intervals used for a histogram, we can use the  `bins`  parameter of  `Series.plot.hist()` . A bin is the same thing as a class interval, and, when it comes to histograms, the term \"bin\" is used much more often.\n",
    "\n",
    "Also, we'll often want to avoid letting pandas work out the intervals, and use instead intervals that we think make more sense. We can do this in two steps:\n",
    "\n",
    "* We start with specifying the range of the entire distribution using the  `range`  parameter of  `Series.plot.hist()` .\n",
    "* Then we combine that with the number of bins to get the intervals we want.\n",
    "\n",
    "Histogram is basically the visual form of a grouped frequency table. histogram can also be understood as a modified version of a bar plot. The main difference is that in the case of a histogram there are  *no gaps*  between bars, and each bar represents  *an interval* , not a single value.\n",
    "\n",
    "The main reason we remove the gaps between bars in case of a histogram is that we want to show that the class intervals we plot are adjacent to one another. With the exception of the last interval, the ending point of an interval is the starting point of the next interval, and we want that to be seen on the graph.\n",
    "\n",
    "For bar plots we add gaps because in most cases we don't know whether the unique values of  *ordinal variables*  are adjacent to one another in the same way as two class intervals are. It's safer to assume that the values are not adjacent, and add gaps.\n",
    "\n",
    "For nominal variables, values can't be numerically adjacent in principle, and we add gaps to emphasize that the values are fundamentally distinct.\n",
    "\n",
    "Below we summarize what we've learned so far:\n",
    "![image.png](data:image/png;base64,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)"
   ]
  },
  {
   "cell_type": "markdown",
   "metadata": {},
   "source": [
    "# Symmetrical Distribution"
   ]
  },
  {
   "cell_type": "markdown",
   "metadata": {},
   "source": [
    "Besides skewed distributions, we often see histograms with a shape that is more or less symmetrical. If we draw a vertical line exactly in the middle of a symmetrical histogram, then we'll divide the histogram in two halves that are mirror images of one another.\n",
    "\n",
    "![image.png](data:image/png;base64,iVBORw0KGgoAAAANSUhEUgAAArIAAADUCAYAAABgS8DuAAAclUlEQVR4Ae3dX6hl113A8QlKoGNIQ/SpjwpiXoRGH4zQ3nlQ+qQPPvjkg28+iCCj8RqncudBJUVSGjLBFhQpCIKK1sx0JrE1dyad2GpDVVJrQq0VS60Ui1WoSF+OHMmmc0/n3P3b5/z22evPZ+By5t69ztprfX+/89vfu2btPRdW/iCAAAIIIIAAAvchcOHChdX6yx8ESiUgO0uNjHEhgAACCCCwMIGTk5PV+ssfBEolQGRLjYxxIYAAAggggAACCJxLgMiei8dBBBBAAAEEEEAAgVIJENlSI2NcCCCAAAIILExgva3g6tWrC4/C6RHYToDIbmfjCAIIIIAAAl0TcLNX1+GvYvJEtoowGSQCCCCAAAKHJ0BkD8/cGacRILLTeGmNAAIIIIBANwQ8taCbUFc7USJbbegMHAEEEEAAAQQQ6JsAke07/maPAAIIIIAAAghUS4DIVhs6A0cAAQQQQGBeAp5aMC9fve9PgMjuz1APCCCAAAIINEnAzV5NhrWpSRHZpsJpMggggAACCOQRILJ5LPU0DwEiOw9XvSKAAAIIIFA9gaOjo9X6yx8ESiVAZEuNjHEhgAACCCCAAAIInEuAyJ6Lx0EEEEAAAQQQQACBUgkQ2VIjY1wIIIAAAggsTOD09HR1+/bthUfh9AhsJ0Bkt7NxBAEEEEAAga4JuNmr6/BXMXkiW0WYDBIBBBBAAIHDEyCyh2fujNMIENlpvLRGAAEEEECgGwKeWtBNqKudKJGtNnQGjgACCCCAAAII9E2AyPYdf7NHAAEEEEAAAQSqJUBkqw2dgSOAAAIIIDAvAU8tmJev3vcnQGT3Z6gHBBBAAAEEmiTgZq8mw9rUpIhsU+E0GQQQQAABBPIIENk8lnqahwCRnYerXhFAAAEEEKiegKcWVB/C5idAZJsPsQkigAACCCCAAAJtEiCybcbVrBBAAAEEEEAAgeYJENnmQ2yCCCCAAAII7EbAUwt24+ZdhyNAZA/H2pkQQAABBBCoioCbvaoKV5eDJbJdht2kEUAAAQQQGCdAZMcZabEsASK7LP+mzv61b3xzdeHyC+lf//k/32yKk8kggAACcxKI1uHIGKY+tSDz3JHxaYMAkZUDaQSIbBpKHSGAAAI7E1hSJpc8987AvLFqAkS26vCVNXgiW1Y8jAYBBPoksKRMLnnuPqNt1kRWDqQRILJpKHWEAAII7EwgUyanPrUg89w7A/DGrggQ2a7CPe9kiey8fPWOAAIIRAhkyuTUm70yzx2ZqzYIEFk5kEaAyKah1BECCCCwM4FMmSSyO4fBGw9EgMgeCHQPpyGyPUTZHBFAoHQCmSLrqQWlR9v4iKwcSCNAZNNQ6ggBBBDYmUCmyE4dxJLnnjpW7dsgQGTbiGMRsyCyRYTBIBBAoHMCS8rkkufuPOzdTp/Idhv6/IkT2XymekQAAQSmElhSJpc891RO2rdBgMi2EcciZkFkiwiDQSCAQOcEMmXSzV6dJ1MF0yeyFQSpliES2VoiZZwIINAyASLbcnTNbZMAkd0k4vudCRDZndF5IwIIIJBGgMimodRRBQSIbAVBqmWIRLaWSBknAgi0TCBTZKdyWvLcU8eqfRsEiGwbcSxiFkS2iDAYBAIIdE5gSZlc8tydh73b6RPZbkOfP3Eim89UjwgggMBUAkvK5JLnnspJ+zYIENk24ljELIhsEWEwCAQQ6JxApkx6akHnyVTB9IlsBUGqZYhEtpZIGScCCLRMgMi2HF1z2yRAZDeJdPL9Z7789dXRtbupXz/2O59cRQvolHZXX3pzdfLiG6lf//Zf/9tJpE0TAQRKJfCR17+SWoPXNf1n/uAz4Toc4TLXiuwH7nwhtaavrxFf+I9vRKakTWMEiGxjAY1O58Of/tdwsYtK5wOXX0jvc33uR67cSu/3tS99PYpKOwQQQGAWAr/4Z59Nr20Xj2+E+5xjUtHrxff+xsfD44z2+bE3vzrHlPRZOAEiW3iA5hoekSWyc+WWfhFAIEaAyOYufhDZWN611orIthbR4HyILJENpopmCCAwEwEiS2RnSq2uuiWyXYX7W5MlskT2W9ngbwggsASBGkR2rj2ythYskXFtnpPIthnX0VkRWSI7miQaIIDArASIrBXZWROsk86JbCeB3pwmkSWymznhewQQOCwBIktkD5txbZ6NyLYZ19FZEVkiO5okGiCAwKwEahDZqQCiTxiwtWAqWe23ESCy28g0/nMiS2QbT3HTQ6B4AkTWimzxSVrBAIlsBUGaY4hElsjOkVf6RACBOAEiS2Tj2aLlNgJEdhuZxn9OZIls4ylueggUT6AGkfXUguLTqPsBEtlOU4DIEtlOU9+0ESiGAJG1IltMMlY8ECJbcfD2GTqRJbL75I/3IoDA/gSILJHdP4v0QGQryIGPvP6V1dG1u6lfP/qBT6T/P9cPXM4tSsPdr49cuZU+1is3/3F18uIbqV//8O//XUE2GSICCOxC4PlXv5hag9c1/Z3P3EmvbRePb4T73IXD2HuGuj32OsdTC37l+udSa/r6GvHalyx6jMV86eNEdukIBM4/x2/tDz55PVzsxgrScLwmkX3sfS+nz/+P/u7LgWhqggACNRJ4zwc/lV4zHjq+md5nzyL7+Ay/GHzor/6lxnTtasxEtoJwE9n8FVkiW0HiGyICBREgsrFgDAsbY69zrMgS2ViMWmtFZCuIKJElshWkqSEi0DSBXkW2pqcWENmmP4JbJ0dkt6Ip5wCRJbLlZKORINAnASIbi/vYSuxw3IpsjKdW4wSI7DijxVsQWSK7eBIaAAKdEyCysQQYRHXslcjGeGo1ToDIjjNavAWRJbKLJ6EBINA5gV5F9vT0dLX+iv4ZE9jhOJGNEtVujACRHSNUwHEiS2QLSENDQKBrAr2K7NSgD6I69kpkp5LVfhsBIruNTEE/J7JEtqB0NBQEuiRAZGNhHxPY4TiRjfHUapwAkR1ntHgLIktkF09CA0CgcwK9iuzR0dHq0qVL4egPojr2SmTDSDUcIUBkRwCVcJjIEtkS8tAYEOiZQK8i6/Fb/kOE0j/3RLb0CK1WKyJLZCtIU0NEoGkCRDYW3rGV2OG4FdkYT63GCRDZcUaLtyCyRHbxJDQABDon0KvIemqBFdnSP/pEtvQIWZFdPXKFyFaQpoaIQNMEehXZqUEdVlzHXq3ITiWr/TYCRHYbmYJ+bkWWyBaUjoaCQJcEiGws7GMCOxwnsjGeWo0TILLjjBZvQWSJ7OJJaAAIdE6gV5H11AJbC0r/6BPZ0iNka4GtBRXkqCEi0DqBXkXWUwuIbOmfbSJbeoSILJGtIEcNEYHWCRDZWISHrQNjr7YWxHhqNU6AyI4zWryFrQW2FiyehAaAQOcEehVZTy2wIlv6R5/Ilh4hK7JWZCvIUUNEoHUCvYrs1LiOrcQOx63ITiWr/TYCRHYbmYJ+bkXWimxB6WgoCHRJgMjGwj6I6tgrkY3x1GqcAJEdZzSpxfOvfnF1dO1u6tc7n7mzGisKU48/+OT19D4fuPxCep/redXyHNnLf/7Z1cmLb6R+3f3nr03KP40RQGC1eu/NN1Jr8Lqmf/9vvZxe3x46vpne58XjG+E+I7nS+1MLfv5PXk+t6etrxMfe/GoEvTZBAkQ2CCrarJbf2ols/kXpiWdfCV9Aor94PP2Xn4+mnnYIIPAWgceePk3/LL79qfx/GapBZHt/asG7nns1PZd+9cbnfFYTCRDZRJjrrohs/qpsLSuyRDb5w6Q7BHYkQGRjdTiCl8gS2UieLNmGyCbTJ7KxAhpdkaxpawGRTf4w6Q6BHQkQ2VgdjuDt/akFVmQjWbJsGyKbzJ/IxgookY1xsrUg+QOquy4IENlYfZkjGaK1vZabvYjsHFmS2yeRzeVpa8EMN3zZWpCcpLpDoHECRJbIRoV6rB2RLb9YENnkGFmRjRXQseJx73Eim5ykukOgcQJENlaHI2nQ+1MLiGwkS5ZtQ2ST+RPZWAG9V1TH/k5kk5NUdwg0ToDIxupwJA3c7OVmr0ieLNmGyCbTJ7KxAjomr/ceJ7LJSao7BBonQGRjdTiSBkSWyEbyZMk2RDaZPpGNFdB7RXXs70Q2OUl1h0DjBIhsrA5H0sBTC4hsJE+WbENkk+kT2VgBHZPXe48T2eQk1R0CjRMgsrE6PEca3Fu7z/u7pxbMQb/PPolsctyJbKyAnlfgNo8R2eQk1R0CjRMgsrE6PEcabNbvbd8T2Tno99knkU2OO5GNFdBtxe1+PyeyyUmqOwQaJ0BkY3U4kgYnJyerq1evRpr+f5v71fD7/YzIhpFqOEKAyI4AmnqYyMYK6P0K27afEdmpWag9An0TILKxOhzJEjd72SMbyZMl2xDZZPpENlZAt0nr/X5OZJOTVHcINE6AyMbqcCQNiCyRjeTJkm2IbDJ9IhsroPcT1m0/I7LJSao7BBonQGRjdTiSBuutBeuv6J9tdXzz57YWRIlqN0aAyI4RmnicyMYK6GZRO+97IjsxCTVHoHMCRDZWh+dIk/Nq+b3HiOwc9Pvsk8gmx53IxgrovQVt7O9ENjlJdYdA4wSIbKwOz5EGY/V8OE5k56DfZ59ENjnuRDZWQIdiFnklsslJqjsEGidAZGN1OJIGnlpgj2wkT5ZsQ2ST6RPZWAGNCOzQhsgmJ6nuEGicAJGN1eFIGrjZi8hG8mTJNkQ2mT6RjRXQQVIjr0Q2OUl1h0DjBIhsrA5H0oDIEtlInizZhsgm0yeysQIaEdihDZFNTlLdIdA4ASIbq8ORNPDUAiIbyZMl2xDZZPpENlZAB0mNvBLZ5CTVHQKNEyCysTo8RxpEavq6jZu95qDfZ59ENjnuRDZWQKPFbt2OyCYnqe4QaJwAkY3V4TnSIFrbiewc9Pvss2uR/Ynf/evVI792M/XrHSd/sYp+kKPtHjq+md7ng09eT+/zgcux4hmd99CuZ5H9qd//9OrS86+mfj1z+5/6rHZmXSSBH37/K6k1eF3Tv+fXX0qvb29/6lZ6n3PU9ovHN8LjjCSEpxbkby34yd/7m9Savr5GXH3pzUg4m2zTtcj2/Fs7kX05XOwHoR57feLZV9L7PHo+v4j+3B//fZPFzKTqJPDolXxBfHgG6exVZN3slV+Dj67l9/nTH36tzgKQMGoim7yKWEuxI7JENqF+6AKBvQkQ2dx/ycpekSWy+dJJZPcuG2c6ILJENm0V0dYCK7JnqotvEAgQILJli6ynFhDZwMd40SZElsgS2aQcsLVg0Vrm5JUSILJli+zUtBrbgjUc7/lmLyuyU7Pq/PZENklihg+nrQW5RXnNteebveyRPb+AOVo/ASKbWzOztxZMzbDhWjj2SmRz426P7NRMbaS9m71yP0i2Ftha0EhpMI0DEiCyuXU4W2Q9tcDWggOWg51OZUXWiqytBUk5YGvBTjXImzonQGTLFlk3exHZ0ksUkU2SmOGfUWwtyC3KthbkF1GP3yq9LPc1PiKbWzOzV2SJbH4Ntkc2t8YRWSJrRTYpB6zI5hYnvfVBgMiWLbKeWkBkS69ERDZJYqzIvrCyR9Ye2dILnvGVR4DIli2yUzNmuBaOvbrZKzfubvaamqmNtHezV+4HicgS2UZKg2kckACRza3D2VsLpqbCmMAOx4lsbtyJ7NRMbaQ9kc39IBFZIttIaTCNAxIgsrl1OFtkT09PV7dv3w5nxCCqY69ENjfuRDacom01JLK5HyQiS2TbqhBmcwgCRDa3DmeLrJu97JE9RB3Y5xz2yNoj62avpBxws9c+pch7eyVAZIns2Opt9Pjjz9xJu54N53zXc0S29NpEZJMkZkh6j9/KLcprrv5nr1ymHr9Velnua3xENvfznb0ie3R0tFp/Rf8M18KxV1sLcuNua0E0QxtrZ2tB7gfJ1gJbCxorEaZzAAJENrcOZ4vs1BQYE9jhOJHNjTuRnZqpjbQnsrkfJCJLZBspDaZxQAJENrcOE9lcnrYWHLAY7HgqWwtsLUjbU0RkieyOdcjbOiZAZHPFK1tkPbXAHtnSyxORJbJENikH3OxVerkzvhIJENmyRdZTC4hsiXXj3jER2SSJGfb9uNkrtyivubrZK5epm73uLYH+vjQBIpv7+c5ekSWyRHbpGjF2/mpE9gd/+/bqoadupn5993tfTFuNJLL+i9paVmTf86FPrX7k2U+kfv3Cn74+Vmscb4DAO66+lFqD1zX9u44/ml6HH37qVnqftSxSZIuspxbUIbKXrr2aWtPX14if/cO/raJqVSOyj84gnT0XuwefvJ5e6O2RrWOP7Luv3U2P/Y9/8JNVFDyD3I/Ad/5yft142/GN9HzsubZni+zUjBkWdcZePbUgdyX+iWfz6/oPvf/O1PAv0p7I2lqQdhEhskR2kSrmpAcjQGRz5eOh45tp9XcQRyKbG6NanlpAZA9WBnc/kRXZ3A+nFdmX0y8gtWwtsCK7ex3q/Z1ENrcO1yCynlpQx9YCIltBdSayuQWUyBLZYQUn49XWggqKaMIQiWxuHa5BZN3sRWQTSsesXdhaYGtB2sqkrQW2FsxarXS+OAEiS2THkjD6i7E9srm5ZEV2LDMLOG5FNjfprchakY1ecCLtrMgWUCQPMAQim1uHa1iR9dQCK7IHKC17ncKKrBVZK7JJOWCP7F61yJsrIEBk+xPZqWkZ+cV33caKbG4uWZGdmqkLtLcim5v0VmStyEYvOJF2VmQXKIoLnJLI5tbhGlZkp6ZZpF4Q2fxVXiI7NVMXaE9kcwsokSWy0QtOpB2RXaAoLnBKIptbh2sQWU8tyJfOo2v5fRLZBQri1FMS2dwCSmSJbERQo22I7NSKVmd7Iptbh2sQWU8tyJdOIptb/+yRTdofOVzwa/lvDIkskR1yNuOVyOYW5lJ7I7JEdiw3o/XEHtncXLIiO5aZBRy3Ipub9ESWyEYvOJF2RLaAInmAIRDZ3Dpcw4qspxZYkT1AadnrFFZkrch6akFSDnhqwV61yJsrIEBk+xPZqWkZ+cV33caKbG4uWZGdmqkLtLcim5v0VmStyEYvOJF2VmQXKIoLnJLI5tbhGlZkp6ZZpF4Q2fxVXiI7NVMXaE9kcwsokSWy0QtOpB2RXaAoLnBKIptbh2sQWU8tyJdON3vlFq9ZthbMUewuHn807Z/Ahwvzw0/dSu/TzV65hX4dq0eu5MfpsfcR2eFzkPH6+DN30j9L3/ebH8+tdp31lhHXzT6+45eup8f5bcc30vvsubZfnMAz8pHw1IJ+RfYHns6/Tj565VYk7Sa1IbJJ+yOHgk9kieyQCxmvR8/nF9F3X7ubLg5EdlLdPUjjjPzb7IPI5ta3GlZkiWx+Da5lRZbIJguiFdncAmprQf5vmj3f7EVkD+Kmk06yKaEZ3xPZ3DpMZHN5zlGH3vUckc2oHUMfVmST5bjnf34iskR2KCwZr3NcQGwtmOSt39Y4I66bfRDZXPGqQWS/LbFGfrCZM9u+99SC3Fya42YvK7LJ0mlFNjfpiSyR3XaB2eXnRHbk6r7A4V3iOPYeIptbh4lsLs856pAV2dwYWZFNlmMrsrkJ+kByfIaLqpu9cuNkj+wCVrnAKYfPT+Yrkc39LBLZXJ5ENpenFdlkqbEim5ugVmStyGYKzhwXEFsL9rPfzPgOfRHZ3Dpcg8i62cse2eHzn/FqRTZZjq3I5hZlK7KvpD8NwFML9pO5nt+dcdHZ7IPI5tZMIpvLc45fqG0tyI0RkSWyaaJkRdaK7Kak7PP9HBcQK7L7afg+8dz2XiKbe1Ensrk856hDRDY3RkSWyBLZpBzwHyLkFqc5LiBElshuE+qxn/f8r23Z/yHC1Cwci81w3FMLcmuwpxZMzdSR9v5nr9wEneO3diuyVmSHC0rGK5EdKYoLHM6I62YfVmTLr+1ENjdGVmRzeVqRTVqNG4pzz7+1E1kiO3wOMl6J7AKmOnLKjLhu9kFkcy/qcyxSENncGBHZXJ5ElsjaWpCUA7YW5BYnIjtilQsc3pTQjO+JbO7npgaR9dQCTy3IqB1DH0Q2SWIGoFZkc4uypxZ4asHw2cp4tUd2P/vNiMFmH0Q2t2YS2Vyec/xCbUU2N0ZElshakU3KASuyucVpjgsIkSWymyId/b7nRYrsrQVWZK3IRj93kXZENkliBtg9Fzt7ZO2RHT4HGa9Edj/pnOPdGXHd7MOKbO4vgDWsyE7Nzc2c2fa9pxbk5pKnFkzN1JH2nlqQm6BzFDsiS2S3XWB2+TmRHSmKCxzeJY5j7yGy5df27BXZqak7lkPDcSKbm0tEdmqmjrQnsrkJSmRvpW2pGIqorQW5OUpkR4riAoeHXM98JbK5n5s5ajuRzY2RPbK5PGfZWjDsf/F6YYUBBnKg/RxYwClDp5R77edeaTGOJOYw5kjbdZuhvVf5fMAcAPuAsH3IL8g3+bZsDkQvyIduJy+WzYse+UdyfOASabtuM7T3Kp8PlgPR5NQOAQQQQAABBPoiMMhIX7M225oIXKhpsMaKAAIIIIAAAggggMBAgMgOJLwigAACCCCAAAIIVEWAyFYVLoNFAAEEEEAAAQQQGAgQ2YGEVwQQQAABBBA4Q8Ae2TM4fFMgASJbYFAMCQEEEEAAgRIIENkSomAM5xEgsufRcQwBBBBAAIGOCRDZjoNfydSJbCWBMkwEEEAAAQQQQACBswSI7FkevkMAAQQQQAABBBCohACRrSRQhokAAggggAACCCBwlgCRPcvDdwgggAACCCDwFoGjo6PVpUuX8ECgWAJEttjQGBgCCCCAAALLEnCz17L8nX2cAJEdZ6QFAggggAACXRIgsl2GvapJE9mqwmWwCCCAAAIIHI7A6enpav3lDwKlEiCypUbGuBBAAAEEEEAAAQTOJUBkz8XjIAIIIIAAAggggECpBIhsqZExLgQQQAABBBYm4KkFCwfA6UcJENlRRBoggAACCCDQJwE3e/UZ95pmTWRripaxIoAAAgggcEACRPaAsJ1qJwJEdids3oQAAggggED7BDy1oP0Y1z5DIlt7BI0fAQQQQAABBBDolACR7TTwpo0AAggggAACCNROgMjWHkHjRwABBBBAYCYCnlowE1jdphEgsmkodYQAAggggEBbBNzs1VY8W5wNkW0xquaEAAIIIIBAAgEimwBRF7MSILKz4tU5AggggAAC9RLw1IJ6Y9fLyIlsL5E2TwQQQAABBBBAoDECRLaxgJoOAggggAACCCDQCwEi20ukzRMBBBBAAIGJBDy1YCIwzQ9OgMgeHLkTIoAAAgggUAcBN3vVEaeeR0lke46+uSOAAAIIIHAOASJ7DhyHiiBAZIsIg0EggAACCCBQHgFPLSgvJkZ0lgCRPcvDdwgggAACCCCAAAKVECCylQTKMBFAAAEEEEAAAQTOEiCyZ3n4DgEEEEAAAQTeIuCpBVKhdAJEtvQIGR8CCCCAAAILEXCz10LgnTZMgMiGUWmIAAIIIIBAXwSIbF/xrnG2RLbGqBkzAggggAACByBwcnKyWn/5g0CpBIhsqZExLgQQQAABBBBAAIFzCRDZc/E4iAACCCCAAAIIIFAqASJbamSMCwEEEEAAgYUJrLcVXL16deFROD0C2wkQ2e1sHEEAAQQQQKBrAm726jr8VUyeyFYRJoNEAAEEEEDg8ASI7OGZO+M0AkR2Gi+tEUAAAQQQ6IaApxZ0E+pqJ0pkqw2dgSOAAAIIIIAAAn0TILJ9x9/sEUAAAQQQQACBagkQ2WpDZ+AIIIAAAgjMS8BTC+blq/f9CRDZ/RnqAQEEEEAAgSYJuNmrybA2Nan/A71aIdgNFVjgAAAAAElFTkSuQmCC \"Symmetrical Distribution\")\n",
    "\n",
    "If the shape of the histogram is symmetrical, then we say that we have a  **symmetrical distribution** .\n",
    "\n",
    "A very common symmetrical distribution is one where the values pile up in the middle and gradually decrease in frequency toward both ends of the histogram. This pattern is specific to what we call a  **normal distribution**  (also called  *Gaussian distribution* ).\n",
    "\n",
    "![image.png](data:image/png;base64,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 \"Normal Distribution\")\n",
    "\n",
    "Another common symmetrical distribution is one where the values are distributed  *uniformly*  across the entire range. This pattern is specific to a  **uniform distribution** .\n",
    "\n",
    "![image.png](data:image/png;base64,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 \"Uniform Distribution\")\n",
    "\n",
    "In practice, we rarely see  *perfectly*  symmetrical distributions. However, it's common to use perfectly symmetrical distributions as baselines for describing the distributions we see in practice"
   ]
  },
  {
   "cell_type": "code",
   "execution_count": 30,
   "metadata": {},
   "outputs": [
    {
     "data": {
      "image/png": "[encoded data removed]",
      "text/plain": [
       "<Figure size 432x288 with 1 Axes>"
      ]
     },
     "metadata": {},
     "output_type": "display_data"
    }
   ],
   "source": [
    "wnba.Weight.plot.hist(title='Players Weight Distribution')\n",
    "plt.xlabel('Weight')\n",
    "plt.show()"
   ]
  },
  {
   "cell_type": "markdown",
   "metadata": {},
   "source": [
    "the distribution of the  `Weight`  variable as  *resembling closely*  a normal distribution. When we say that the distribution above resembles closely a normal distribution, we mean that most values pile up somewhere  *close*  to the middle and decrease in frequency  *more or less*  gradually toward both ends of the histogram."
   ]
  },
  {
   "cell_type": "code",
   "execution_count": 31,
   "metadata": {},
   "outputs": [
    {
     "data": {
      "image/png": "[encoded data removed]",
      "text/plain": [
       "<Figure size 432x288 with 1 Axes>"
      ]
     },
     "metadata": {},
     "output_type": "display_data"
    }
   ],
   "source": [
    "wnba.BMI.plot.hist(title='BMI Distribution')\n",
    "plt.xlabel('BMI')\n",
    "plt.show()"
   ]
  },
  {
   "cell_type": "markdown",
   "metadata": {},
   "source": [
    "the distribution of the  `BMI`  variable is  *slightly*  right skewed"
   ]
  },
  {
   "cell_type": "markdown",
   "metadata": {},
   "source": [
    "# Conclusion:"
   ]
  },
  {
   "cell_type": "markdown",
   "metadata": {},
   "source": [
    "If a variable is measured on a nominal or ordinal scale, we can use a bar plot or a pie chart. If the variable is measured on an interval or ratio scale, then a histogram is good choice"
   ]
  }
 ],
 "metadata": {
  "kernelspec": {
   "display_name": "Python 3",
   "language": "python",
   "name": "python3"
  },
  "language_info": {
   "codemirror_mode": {
    "name": "ipython",
    "version": 3
   },
   "file_extension": ".py",
   "mimetype": "text/x-python",
   "name": "python",
   "nbconvert_exporter": "python",
   "pygments_lexer": "ipython3",
   "version": "3.6.5"
  }
 },
 "nbformat": 4,
 "nbformat_minor": 4
}
