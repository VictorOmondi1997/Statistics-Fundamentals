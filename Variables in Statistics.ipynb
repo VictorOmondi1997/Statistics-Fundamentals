{
 "cells": [
  {
   "cell_type": "markdown",
   "metadata": {},
   "source": [
    "# Variables in Statistics\n",
    "\n",
    "> Understanding the structural parts of a data set, and how they're measured.\n",
    "\n",
    "- author: Victor Omondi\n",
    "- toc: true\n",
    "- comments: true\n",
    "- categories: [statistics]\n",
    "- image:"
   ]
  },
  {
   "cell_type": "markdown",
   "metadata": {},
   "source": [
    "The properties with varying values we call  **variables** . Notice that this particular meaning of the \"variable\" concept is restricted to the domain of statistics. A variable in statistics is not the same as a [variable in programming](https://en.wikipedia.org/wiki/Variable_(computer_science)), or [other domains](https://en.wikipedia.org/wiki/Variable)."
   ]
  },
  {
   "cell_type": "markdown",
   "metadata": {},
   "source": [
    "# Libraries"
   ]
  },
  {
   "cell_type": "code",
   "execution_count": 2,
   "metadata": {},
   "outputs": [],
   "source": [
    "import warnings\n",
    "\n",
    "import pandas as pd"
   ]
  },
  {
   "cell_type": "markdown",
   "metadata": {},
   "source": [
    "## Libraries Configuration"
   ]
  },
  {
   "cell_type": "code",
   "execution_count": 3,
   "metadata": {},
   "outputs": [],
   "source": [
    "pd.set_option('display.max_columns', None)\n",
    "pd.set_option('display.max_colwidth', None)"
   ]
  },
  {
   "cell_type": "markdown",
   "metadata": {},
   "source": [
    "# Quantitative and Qualitative Variables"
   ]
  },
  {
   "cell_type": "markdown",
   "metadata": {},
   "source": [
    "Variables in statistics can describe either  **quantities** , or  **qualities** ."
   ]
  },
  {
   "cell_type": "code",
   "execution_count": 4,
   "metadata": {},
   "outputs": [
    {
     "data": {
      "text/html": [
       "<div>\n",
       "<style scoped>\n",
       "    .dataframe tbody tr th:only-of-type {\n",
       "        vertical-align: middle;\n",
       "    }\n",
       "\n",
       "    .dataframe tbody tr th {\n",
       "        vertical-align: top;\n",
       "    }\n",
       "\n",
       "    .dataframe thead th {\n",
       "        text-align: right;\n",
       "    }\n",
       "</style>\n",
       "<table border=\"1\" class=\"dataframe\">\n",
       "  <thead>\n",
       "    <tr style=\"text-align: right;\">\n",
       "      <th></th>\n",
       "      <th>Name</th>\n",
       "      <th>Team</th>\n",
       "      <th>Pos</th>\n",
       "      <th>Height</th>\n",
       "      <th>Weight</th>\n",
       "      <th>BMI</th>\n",
       "      <th>Birth_Place</th>\n",
       "      <th>Birthdate</th>\n",
       "      <th>Age</th>\n",
       "      <th>College</th>\n",
       "      <th>Experience</th>\n",
       "      <th>Games Played</th>\n",
       "      <th>MIN</th>\n",
       "      <th>FGM</th>\n",
       "      <th>FGA</th>\n",
       "      <th>FG%</th>\n",
       "      <th>15:00</th>\n",
       "      <th>3PA</th>\n",
       "      <th>3P%</th>\n",
       "      <th>FTM</th>\n",
       "      <th>FTA</th>\n",
       "      <th>FT%</th>\n",
       "      <th>OREB</th>\n",
       "      <th>DREB</th>\n",
       "      <th>REB</th>\n",
       "      <th>AST</th>\n",
       "      <th>STL</th>\n",
       "      <th>BLK</th>\n",
       "      <th>TO</th>\n",
       "      <th>PTS</th>\n",
       "      <th>DD2</th>\n",
       "      <th>TD3</th>\n",
       "    </tr>\n",
       "  </thead>\n",
       "  <tbody>\n",
       "    <tr>\n",
       "      <th>0</th>\n",
       "      <td>Aerial Powers</td>\n",
       "      <td>DAL</td>\n",
       "      <td>F</td>\n",
       "      <td>183</td>\n",
       "      <td>71.0</td>\n",
       "      <td>21.200991</td>\n",
       "      <td>US</td>\n",
       "      <td>January 17, 1994</td>\n",
       "      <td>23</td>\n",
       "      <td>Michigan State</td>\n",
       "      <td>2</td>\n",
       "      <td>8</td>\n",
       "      <td>173</td>\n",
       "      <td>30</td>\n",
       "      <td>85</td>\n",
       "      <td>35.3</td>\n",
       "      <td>12</td>\n",
       "      <td>32</td>\n",
       "      <td>37.5</td>\n",
       "      <td>21</td>\n",
       "      <td>26</td>\n",
       "      <td>80.8</td>\n",
       "      <td>6</td>\n",
       "      <td>22</td>\n",
       "      <td>28</td>\n",
       "      <td>12</td>\n",
       "      <td>3</td>\n",
       "      <td>6</td>\n",
       "      <td>12</td>\n",
       "      <td>93</td>\n",
       "      <td>0</td>\n",
       "      <td>0</td>\n",
       "    </tr>\n",
       "    <tr>\n",
       "      <th>1</th>\n",
       "      <td>Alana Beard</td>\n",
       "      <td>LA</td>\n",
       "      <td>G/F</td>\n",
       "      <td>185</td>\n",
       "      <td>73.0</td>\n",
       "      <td>21.329438</td>\n",
       "      <td>US</td>\n",
       "      <td>May 14, 1982</td>\n",
       "      <td>35</td>\n",
       "      <td>Duke</td>\n",
       "      <td>12</td>\n",
       "      <td>30</td>\n",
       "      <td>947</td>\n",
       "      <td>90</td>\n",
       "      <td>177</td>\n",
       "      <td>50.8</td>\n",
       "      <td>5</td>\n",
       "      <td>18</td>\n",
       "      <td>27.8</td>\n",
       "      <td>32</td>\n",
       "      <td>41</td>\n",
       "      <td>78.0</td>\n",
       "      <td>19</td>\n",
       "      <td>82</td>\n",
       "      <td>101</td>\n",
       "      <td>72</td>\n",
       "      <td>63</td>\n",
       "      <td>13</td>\n",
       "      <td>40</td>\n",
       "      <td>217</td>\n",
       "      <td>0</td>\n",
       "      <td>0</td>\n",
       "    </tr>\n",
       "    <tr>\n",
       "      <th>2</th>\n",
       "      <td>Alex Bentley</td>\n",
       "      <td>CON</td>\n",
       "      <td>G</td>\n",
       "      <td>170</td>\n",
       "      <td>69.0</td>\n",
       "      <td>23.875433</td>\n",
       "      <td>US</td>\n",
       "      <td>October 27, 1990</td>\n",
       "      <td>26</td>\n",
       "      <td>Penn State</td>\n",
       "      <td>4</td>\n",
       "      <td>26</td>\n",
       "      <td>617</td>\n",
       "      <td>82</td>\n",
       "      <td>218</td>\n",
       "      <td>37.6</td>\n",
       "      <td>19</td>\n",
       "      <td>64</td>\n",
       "      <td>29.7</td>\n",
       "      <td>35</td>\n",
       "      <td>42</td>\n",
       "      <td>83.3</td>\n",
       "      <td>4</td>\n",
       "      <td>36</td>\n",
       "      <td>40</td>\n",
       "      <td>78</td>\n",
       "      <td>22</td>\n",
       "      <td>3</td>\n",
       "      <td>24</td>\n",
       "      <td>218</td>\n",
       "      <td>0</td>\n",
       "      <td>0</td>\n",
       "    </tr>\n",
       "    <tr>\n",
       "      <th>3</th>\n",
       "      <td>Alex Montgomery</td>\n",
       "      <td>SAN</td>\n",
       "      <td>G/F</td>\n",
       "      <td>185</td>\n",
       "      <td>84.0</td>\n",
       "      <td>24.543462</td>\n",
       "      <td>US</td>\n",
       "      <td>December 11, 1988</td>\n",
       "      <td>28</td>\n",
       "      <td>Georgia Tech</td>\n",
       "      <td>6</td>\n",
       "      <td>31</td>\n",
       "      <td>721</td>\n",
       "      <td>75</td>\n",
       "      <td>195</td>\n",
       "      <td>38.5</td>\n",
       "      <td>21</td>\n",
       "      <td>68</td>\n",
       "      <td>30.9</td>\n",
       "      <td>17</td>\n",
       "      <td>21</td>\n",
       "      <td>81.0</td>\n",
       "      <td>35</td>\n",
       "      <td>134</td>\n",
       "      <td>169</td>\n",
       "      <td>65</td>\n",
       "      <td>20</td>\n",
       "      <td>10</td>\n",
       "      <td>38</td>\n",
       "      <td>188</td>\n",
       "      <td>2</td>\n",
       "      <td>0</td>\n",
       "    </tr>\n",
       "    <tr>\n",
       "      <th>4</th>\n",
       "      <td>Alexis Jones</td>\n",
       "      <td>MIN</td>\n",
       "      <td>G</td>\n",
       "      <td>175</td>\n",
       "      <td>78.0</td>\n",
       "      <td>25.469388</td>\n",
       "      <td>US</td>\n",
       "      <td>August 5, 1994</td>\n",
       "      <td>23</td>\n",
       "      <td>Baylor</td>\n",
       "      <td>R</td>\n",
       "      <td>24</td>\n",
       "      <td>137</td>\n",
       "      <td>16</td>\n",
       "      <td>50</td>\n",
       "      <td>32.0</td>\n",
       "      <td>7</td>\n",
       "      <td>20</td>\n",
       "      <td>35.0</td>\n",
       "      <td>11</td>\n",
       "      <td>12</td>\n",
       "      <td>91.7</td>\n",
       "      <td>3</td>\n",
       "      <td>9</td>\n",
       "      <td>12</td>\n",
       "      <td>12</td>\n",
       "      <td>7</td>\n",
       "      <td>0</td>\n",
       "      <td>14</td>\n",
       "      <td>50</td>\n",
       "      <td>0</td>\n",
       "      <td>0</td>\n",
       "    </tr>\n",
       "  </tbody>\n",
       "</table>\n",
       "</div>"
      ],
      "text/plain": [
       "              Name Team  Pos  Height  Weight        BMI Birth_Place  \\\n",
       "0    Aerial Powers  DAL    F     183    71.0  21.200991          US   \n",
       "1      Alana Beard   LA  G/F     185    73.0  21.329438          US   \n",
       "2     Alex Bentley  CON    G     170    69.0  23.875433          US   \n",
       "3  Alex Montgomery  SAN  G/F     185    84.0  24.543462          US   \n",
       "4     Alexis Jones  MIN    G     175    78.0  25.469388          US   \n",
       "\n",
       "           Birthdate  Age         College Experience  Games Played  MIN  FGM  \\\n",
       "0   January 17, 1994   23  Michigan State          2             8  173   30   \n",
       "1       May 14, 1982   35            Duke         12            30  947   90   \n",
       "2   October 27, 1990   26      Penn State          4            26  617   82   \n",
       "3  December 11, 1988   28    Georgia Tech          6            31  721   75   \n",
       "4     August 5, 1994   23          Baylor          R            24  137   16   \n",
       "\n",
       "   FGA   FG%  15:00  3PA   3P%  FTM  FTA   FT%  OREB  DREB  REB  AST  STL  \\\n",
       "0   85  35.3     12   32  37.5   21   26  80.8     6    22   28   12    3   \n",
       "1  177  50.8      5   18  27.8   32   41  78.0    19    82  101   72   63   \n",
       "2  218  37.6     19   64  29.7   35   42  83.3     4    36   40   78   22   \n",
       "3  195  38.5     21   68  30.9   17   21  81.0    35   134  169   65   20   \n",
       "4   50  32.0      7   20  35.0   11   12  91.7     3     9   12   12    7   \n",
       "\n",
       "   BLK  TO  PTS  DD2  TD3  \n",
       "0    6  12   93    0    0  \n",
       "1   13  40  217    0    0  \n",
       "2    3  24  218    0    0  \n",
       "3   10  38  188    2    0  \n",
       "4    0  14   50    0    0  "
      ]
     },
     "execution_count": 4,
     "metadata": {},
     "output_type": "execute_result"
    }
   ],
   "source": [
    "wnba = pd.read_csv('datasets/wnba.csv')\n",
    "wnba.head()"
   ]
  },
  {
   "cell_type": "markdown",
   "metadata": {},
   "source": [
    "The  `Height`  variable in our data set describes  *how tall*  each player is. The  `Age`  variable describes  *how much*  time has passed since each player was born. The  `MIN`  variable describes  *how many*  minutes each player played in the 2016-2017 WNBA season.\n",
    "\n",
    "Generally, a variable that describes  *how much there is of something*  describes a quantity, and, for this reason, it's called a  **quantitative variable** .\n",
    "\n",
    "Quantitative variables describe a quantity using real numbers, but there are also cases when words are used instead. Height, for example, can be described using real numbers, like in our data set, but it can also be described using labels like \"tall\" or \"short\".\n",
    "\n",
    "A few variables in our data set clearly don't describe quantities. The  `Name`  variable, for instance, describes the name of each player. The  `Team`  variable describes what team each player belongs to. The  `College`  variable describes what college each player goes or went to.\n",
    "\n",
    "The  `Name` ,  `Team` , and  `College`  variables describe for each individual a  *quality* , that is, a property that is not quantitative. Variables that describe qualities are called  **qualitative variables**  or  **categorical variables** . Generally, qualitative variables describe  *what*  or  *how*  something is.\n",
    "\n",
    "Usually, qualitative variables describe qualities using words, but numbers can also be used. For instance, the number of a player's shirt or the number of a racing car are described using numbers. The numbers don't bear any quantitative meaning though, they are just names, not quantities.\n",
    "\n",
    "In the diagram below we do a head-to-head comparison between qualitative and quantitative variables:\n",
    "\n",
    "![image.png](data:image/png;base64,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)"
   ]
  },
  {
   "cell_type": "markdown",
   "metadata": {},
   "source": [
    "# Scales of Measurement"
   ]
  },
  {
   "cell_type": "markdown",
   "metadata": {},
   "source": [
    "The amount of information a variable provides depends on its nature (whether it's quantitative or qualitative), and on the way it's measured.\n",
    "\n",
    "if we analyze the  `Team`  variable for any two individuals:\n",
    "\n",
    "* We can tell whether or not the two individuals are  *different*  from each other with respect to the team they play.\n",
    "* But if there's a difference:\n",
    "  * We can't tell  *the size*  of the difference.\n",
    "  * We can't tell  *the direction*  of the difference - we can't say that team A is greater or less than team B.\n",
    "  \n",
    "if we analyze the  `Height`  variable:\n",
    "\n",
    "* We can tell whether or not two individuals are different.\n",
    "* If there's a difference:\n",
    "  * We can tell  *the size*  of the difference. If player A has 190 cm and player B has 192 cm, then the difference between the two is 2 cm.\n",
    "  * We can tell  *the direction*  of the difference from each perspective: player A has 2 cm  *less*  than player B, and player B has 2 cm  *more*  than player A.\n",
    "  \n",
    "The  `Team`  and  `Height`  variables provide different amounts of information because they have a different nature (one is qualitative, the other quantitative), and because they are  *measured differently* . The system of rules that define how each variable is measured is called scale of measurement or, less often, level of measurement."
   ]
  },
  {
   "cell_type": "markdown",
   "metadata": {},
   "source": [
    "# The Norminal Scale"
   ]
  },
  {
   "cell_type": "markdown",
   "metadata": {},
   "source": [
    "The  `Team`  variable is an example of a variable measured on a  **nominal scale** . For any variable measured on a nominal scale:\n",
    "\n",
    "* We can tell whether two individuals are different or not (with respect to that variable).\n",
    "* We can't say anything about the direction and the size of the difference.\n",
    "* We know that it can only describe qualities.\n",
    "\n",
    "![image.png](data:image/png;base64,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)\n",
    "\n",
    "When a qualitative variable is described with numbers, the principles of the nominal scale still hold. We can tell whether there's a difference or not between individuals, but we still can't say anything about the size and the direction of the difference.\n",
    "\n",
    "If basketball player A has the number 5 on her shirt, and player B has 8, we can tell they're different with respect to shirt numbers, but it doesn't make any sense to subtract the two values and quantify the difference as a 3. Nor it makes sense to say that B is greater than A. The numbers on the shirts are just identifiers here, they don't quantify anything."
   ]
  },
  {
   "cell_type": "markdown",
   "metadata": {},
   "source": [
    "# The Ordinal Scale"
   ]
  },
  {
   "cell_type": "markdown",
   "metadata": {},
   "source": [
    "For any variable measured on an ordinal scale, we can tell whether individuals are different or not, we can also tell the direction of the difference, but we still can't determine the size of the difference.\n",
    "\n",
    "Variables measured on an ordinal scale can only be quantitative.\n",
    "\n",
    "![image.png](data:image/png;base64,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)\n",
    "\n",
    "Common examples of variables measured on ordinal scales include ranks: ranks of athletes, of horses in a race, of people in various competitions, etc.\n",
    "\n",
    "For example, let's say we only know that athlete A finished second in a marathon, and athlete B finished third in the same race. We can immediately tell their performance is different, we know that athlete A finished faster, but we don't know how much faster. The difference between the two could be half a second, 12 minutes, half an hour, etc.\n",
    "\n",
    "Other common examples include measurements of subjective evaluations that are generally difficult or near to impossible to quantify with precision. For instance, when answering a survey about how much they like a new product, people may have to choose a label between \"It's a disaster, I hate it\", \"I don't like it\", \"I like it a bit\", \"I really like it\", \"I simply love it\".\n",
    "\n",
    "The values of the variables measured on an ordinal scale can be both words and numbers. When the values are numbers, they are usually ranks. But we still can't use the numbers to compute the size of the difference. We can't say how much faster an athlete was than another by simply comparing their ranks.\n",
    "\n",
    "Whether a variable is quantitative or qualitative is independent of the way the variable is measured. The  `Height`  variable, for instance, is quantitative no matter how we measure it. The fact that we use words like \"short\" or \"tall\" doesn't change its underlying nature. The  `Height`  variable still describes a magnitude, but in a different way."
   ]
  },
  {
   "cell_type": "markdown",
   "metadata": {},
   "source": [
    "# The Interval and Ratio Scales"
   ]
  },
  {
   "cell_type": "markdown",
   "metadata": {},
   "source": [
    "We've seen in the case of the  `Height`  variable that the values have direction when measured on an ordinal scale. The downside is that we don't know the size of each interval between values, and because of this we can't determine the size of the difference.\n",
    "\n",
    "An alternative here is to measure the  `Height`  variable using [real numbers](https://en.wikipedia.org/wiki/Real_number), which will result in having well-defined intervals, which in turn will allow us to determine the  *size*  of the difference between any two values.\n",
    "\n",
    "A variable measured on a scale that preserves the order between values and has well-defined intervals using real numbers is an example of a variable measured either on an  **interval**  scale, or on a  **ratio**  scale.\n",
    "\n",
    "variables measured on interval or ratio scales are very common, if not the most common. Examples include:\n",
    "\n",
    "* Height measured with a numerical unit of measurement (like inches or centimeters).\n",
    "* Weight measured with a numerical unit of measurement (multiples and submultiples of grams, for instance).\n",
    "* Time measured with a numerical unit of measurement (multiples and submultiple of seconds, for example).\n",
    "* The  *price*  of various products measured with a numerical unit of measurement (like dollars, pounds, etc.).\n",
    "\n",
    "![image.png](data:image/png;base64,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)"
   ]
  },
  {
   "cell_type": "markdown",
   "metadata": {},
   "source": [
    "# The Difference between Ratio and Interval Scales"
   ]
  },
  {
   "cell_type": "markdown",
   "metadata": {},
   "source": [
    "What sets apart ratio scales from interval scales is the nature of the zero point. On a ratio scale, the zero point means no quantity. For example, the  `Weight`  variable is measured on a ratio scale, which means that 0 grams indicate the absence of weight.\n",
    "\n",
    "On an interval scale, however, the zero point doesn't indicate the absence of a quantity. It actually indicates the presence of a quantity.\n",
    "\n",
    "On a ratio scale, we can quantify the difference in two ways. One way is to measure a  *distance*  between any two points by simply subtracting one from another. The other way is to measure the difference in terms of  *ratios* .\n",
    "\n",
    "![image.png](data:image/png;base64,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)\n",
    "\n",
    "variables measured on an interval scale are relatively rare."
   ]
  },
  {
   "cell_type": "markdown",
   "metadata": {},
   "source": [
    "# Discrete and Continous Variables"
   ]
  },
  {
   "cell_type": "markdown",
   "metadata": {},
   "source": [
    "If there's no possible intermediate value between any two adjacent values of a variable, we call that variable  **discrete**.\n",
    "\n",
    "If there's an infinity of values between any two values of a variable, we call that variable  **continuous**."
   ]
  },
  {
   "cell_type": "markdown",
   "metadata": {},
   "source": [
    "# Real Limits"
   ]
  },
  {
   "cell_type": "markdown",
   "metadata": {},
   "source": [
    "Every value of a  *continuous*  variable is an interval, no matter how precise the value is. The boundaries of an interval are sometimes called  **real limits** . The lower boundary of the interval is called  **lower real limit** , and the upper boundary is called  **upper real limit** ."
   ]
  },
  {
   "cell_type": "code",
   "execution_count": null,
   "metadata": {},
   "outputs": [],
   "source": []
  },
  {
   "cell_type": "code",
   "execution_count": null,
   "metadata": {},
   "outputs": [],
   "source": []
  },
  {
   "cell_type": "code",
   "execution_count": null,
   "metadata": {},
   "outputs": [],
   "source": []
  },
  {
   "cell_type": "code",
   "execution_count": null,
   "metadata": {},
   "outputs": [],
   "source": []
  },
  {
   "cell_type": "code",
   "execution_count": null,
   "metadata": {},
   "outputs": [],
   "source": []
  },
  {
   "cell_type": "code",
   "execution_count": null,
   "metadata": {},
   "outputs": [],
   "source": []
  },
  {
   "cell_type": "code",
   "execution_count": null,
   "metadata": {},
   "outputs": [],
   "source": []
  },
  {
   "cell_type": "code",
   "execution_count": null,
   "metadata": {},
   "outputs": [],
   "source": []
  },
  {
   "cell_type": "code",
   "execution_count": null,
   "metadata": {},
   "outputs": [],
   "source": []
  },
  {
   "cell_type": "code",
   "execution_count": null,
   "metadata": {},
   "outputs": [],
   "source": []
  },
  {
   "cell_type": "code",
   "execution_count": null,
   "metadata": {},
   "outputs": [],
   "source": []
  },
  {
   "cell_type": "code",
   "execution_count": null,
   "metadata": {},
   "outputs": [],
   "source": []
  },
  {
   "cell_type": "code",
   "execution_count": null,
   "metadata": {},
   "outputs": [],
   "source": []
  },
  {
   "cell_type": "code",
   "execution_count": null,
   "metadata": {},
   "outputs": [],
   "source": []
  },
  {
   "cell_type": "code",
   "execution_count": null,
   "metadata": {},
   "outputs": [],
   "source": []
  },
  {
   "cell_type": "code",
   "execution_count": null,
   "metadata": {},
   "outputs": [],
   "source": []
  },
  {
   "cell_type": "code",
   "execution_count": null,
   "metadata": {},
   "outputs": [],
   "source": []
  },
  {
   "cell_type": "code",
   "execution_count": null,
   "metadata": {},
   "outputs": [],
   "source": []
  },
  {
   "cell_type": "code",
   "execution_count": null,
   "metadata": {},
   "outputs": [],
   "source": []
  },
  {
   "cell_type": "code",
   "execution_count": null,
   "metadata": {},
   "outputs": [],
   "source": []
  },
  {
   "cell_type": "code",
   "execution_count": null,
   "metadata": {},
   "outputs": [],
   "source": []
  },
  {
   "cell_type": "code",
   "execution_count": null,
   "metadata": {},
   "outputs": [],
   "source": []
  },
  {
   "cell_type": "code",
   "execution_count": null,
   "metadata": {},
   "outputs": [],
   "source": []
  },
  {
   "cell_type": "code",
   "execution_count": null,
   "metadata": {},
   "outputs": [],
   "source": []
  },
  {
   "cell_type": "code",
   "execution_count": null,
   "metadata": {},
   "outputs": [],
   "source": []
  },
  {
   "cell_type": "code",
   "execution_count": null,
   "metadata": {},
   "outputs": [],
   "source": []
  },
  {
   "cell_type": "code",
   "execution_count": null,
   "metadata": {},
   "outputs": [],
   "source": []
  },
  {
   "cell_type": "code",
   "execution_count": null,
   "metadata": {},
   "outputs": [],
   "source": []
  },
  {
   "cell_type": "code",
   "execution_count": null,
   "metadata": {},
   "outputs": [],
   "source": []
  },
  {
   "cell_type": "code",
   "execution_count": null,
   "metadata": {},
   "outputs": [],
   "source": []
  },
  {
   "cell_type": "code",
   "execution_count": null,
   "metadata": {},
   "outputs": [],
   "source": []
  },
  {
   "cell_type": "code",
   "execution_count": null,
   "metadata": {},
   "outputs": [],
   "source": []
  },
  {
   "cell_type": "code",
   "execution_count": null,
   "metadata": {},
   "outputs": [],
   "source": []
  },
  {
   "cell_type": "code",
   "execution_count": null,
   "metadata": {},
   "outputs": [],
   "source": []
  },
  {
   "cell_type": "code",
   "execution_count": null,
   "metadata": {},
   "outputs": [],
   "source": []
  },
  {
   "cell_type": "code",
   "execution_count": null,
   "metadata": {},
   "outputs": [],
   "source": []
  },
  {
   "cell_type": "code",
   "execution_count": null,
   "metadata": {},
   "outputs": [],
   "source": []
  },
  {
   "cell_type": "code",
   "execution_count": null,
   "metadata": {},
   "outputs": [],
   "source": []
  },
  {
   "cell_type": "code",
   "execution_count": null,
   "metadata": {},
   "outputs": [],
   "source": []
  },
  {
   "cell_type": "code",
   "execution_count": null,
   "metadata": {},
   "outputs": [],
   "source": []
  },
  {
   "cell_type": "code",
   "execution_count": null,
   "metadata": {},
   "outputs": [],
   "source": []
  },
  {
   "cell_type": "code",
   "execution_count": null,
   "metadata": {},
   "outputs": [],
   "source": []
  },
  {
   "cell_type": "code",
   "execution_count": null,
   "metadata": {},
   "outputs": [],
   "source": []
  },
  {
   "cell_type": "code",
   "execution_count": null,
   "metadata": {},
   "outputs": [],
   "source": []
  },
  {
   "cell_type": "code",
   "execution_count": null,
   "metadata": {},
   "outputs": [],
   "source": []
  },
  {
   "cell_type": "code",
   "execution_count": null,
   "metadata": {},
   "outputs": [],
   "source": []
  },
  {
   "cell_type": "code",
   "execution_count": null,
   "metadata": {},
   "outputs": [],
   "source": []
  },
  {
   "cell_type": "code",
   "execution_count": null,
   "metadata": {},
   "outputs": [],
   "source": []
  },
  {
   "cell_type": "code",
   "execution_count": null,
   "metadata": {},
   "outputs": [],
   "source": []
  },
  {
   "cell_type": "code",
   "execution_count": null,
   "metadata": {},
   "outputs": [],
   "source": []
  },
  {
   "cell_type": "code",
   "execution_count": null,
   "metadata": {},
   "outputs": [],
   "source": []
  },
  {
   "cell_type": "code",
   "execution_count": null,
   "metadata": {},
   "outputs": [],
   "source": []
  },
  {
   "cell_type": "code",
   "execution_count": null,
   "metadata": {},
   "outputs": [],
   "source": []
  },
  {
   "cell_type": "code",
   "execution_count": null,
   "metadata": {},
   "outputs": [],
   "source": []
  },
  {
   "cell_type": "code",
   "execution_count": null,
   "metadata": {},
   "outputs": [],
   "source": []
  },
  {
   "cell_type": "code",
   "execution_count": null,
   "metadata": {},
   "outputs": [],
   "source": []
  },
  {
   "cell_type": "code",
   "execution_count": null,
   "metadata": {},
   "outputs": [],
   "source": []
  },
  {
   "cell_type": "code",
   "execution_count": null,
   "metadata": {},
   "outputs": [],
   "source": []
  },
  {
   "cell_type": "code",
   "execution_count": null,
   "metadata": {},
   "outputs": [],
   "source": []
  },
  {
   "cell_type": "code",
   "execution_count": null,
   "metadata": {},
   "outputs": [],
   "source": []
  },
  {
   "cell_type": "code",
   "execution_count": null,
   "metadata": {},
   "outputs": [],
   "source": []
  },
  {
   "cell_type": "code",
   "execution_count": null,
   "metadata": {},
   "outputs": [],
   "source": []
  },
  {
   "cell_type": "code",
   "execution_count": null,
   "metadata": {},
   "outputs": [],
   "source": []
  },
  {
   "cell_type": "code",
   "execution_count": null,
   "metadata": {},
   "outputs": [],
   "source": []
  },
  {
   "cell_type": "code",
   "execution_count": null,
   "metadata": {},
   "outputs": [],
   "source": []
  },
  {
   "cell_type": "code",
   "execution_count": null,
   "metadata": {},
   "outputs": [],
   "source": []
  },
  {
   "cell_type": "code",
   "execution_count": null,
   "metadata": {},
   "outputs": [],
   "source": []
  },
  {
   "cell_type": "code",
   "execution_count": null,
   "metadata": {},
   "outputs": [],
   "source": []
  },
  {
   "cell_type": "code",
   "execution_count": null,
   "metadata": {},
   "outputs": [],
   "source": []
  },
  {
   "cell_type": "code",
   "execution_count": null,
   "metadata": {},
   "outputs": [],
   "source": []
  },
  {
   "cell_type": "code",
   "execution_count": null,
   "metadata": {},
   "outputs": [],
   "source": []
  },
  {
   "cell_type": "code",
   "execution_count": null,
   "metadata": {},
   "outputs": [],
   "source": []
  },
  {
   "cell_type": "code",
   "execution_count": null,
   "metadata": {},
   "outputs": [],
   "source": []
  },
  {
   "cell_type": "code",
   "execution_count": null,
   "metadata": {},
   "outputs": [],
   "source": []
  },
  {
   "cell_type": "code",
   "execution_count": null,
   "metadata": {},
   "outputs": [],
   "source": []
  },
  {
   "cell_type": "code",
   "execution_count": null,
   "metadata": {},
   "outputs": [],
   "source": []
  },
  {
   "cell_type": "code",
   "execution_count": null,
   "metadata": {},
   "outputs": [],
   "source": []
  },
  {
   "cell_type": "code",
   "execution_count": null,
   "metadata": {},
   "outputs": [],
   "source": []
  },
  {
   "cell_type": "code",
   "execution_count": null,
   "metadata": {},
   "outputs": [],
   "source": []
  },
  {
   "cell_type": "code",
   "execution_count": null,
   "metadata": {},
   "outputs": [],
   "source": []
  },
  {
   "cell_type": "code",
   "execution_count": null,
   "metadata": {},
   "outputs": [],
   "source": []
  },
  {
   "cell_type": "code",
   "execution_count": null,
   "metadata": {},
   "outputs": [],
   "source": []
  },
  {
   "cell_type": "code",
   "execution_count": null,
   "metadata": {},
   "outputs": [],
   "source": []
  },
  {
   "cell_type": "code",
   "execution_count": null,
   "metadata": {},
   "outputs": [],
   "source": []
  }
 ],
 "metadata": {
  "kernelspec": {
   "display_name": "Python 3",
   "language": "python",
   "name": "python3"
  },
  "language_info": {
   "codemirror_mode": {
    "name": "ipython",
    "version": 3
   },
   "file_extension": ".py",
   "mimetype": "text/x-python",
   "name": "python",
   "nbconvert_exporter": "python",
   "pygments_lexer": "ipython3",
   "version": "3.6.5"
  }
 },
 "nbformat": 4,
 "nbformat_minor": 4
}
